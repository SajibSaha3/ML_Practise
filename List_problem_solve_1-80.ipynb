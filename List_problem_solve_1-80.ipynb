{
 "cells": [
  {
   "cell_type": "markdown",
   "id": "65b156b8",
   "metadata": {},
   "source": [
    "# problem 1"
   ]
  },
  {
   "cell_type": "code",
   "execution_count": 1,
   "id": "0bced1c5",
   "metadata": {},
   "outputs": [
    {
     "name": "stdout",
     "output_type": "stream",
     "text": [
      "this is the sum of the given list item!----! 95\n"
     ]
    }
   ],
   "source": [
    "#a Python program to sum all the items in a list\n",
    "list1 = [4,7,8,9,6,33,5,9,6,8] # declear the list\n",
    "sum = 0\n",
    "for i in list1:\n",
    "    sum +=  i\n",
    "print(\"this is the sum of the given list item!----!\",sum)\n",
    "    "
   ]
  },
  {
   "cell_type": "markdown",
   "id": "47e937cc",
   "metadata": {},
   "source": [
    "# problem 2"
   ]
  },
  {
   "cell_type": "code",
   "execution_count": 2,
   "id": "50f4450e",
   "metadata": {},
   "outputs": [
    {
     "data": {
      "text/plain": [
       "[4, 7, 8, 9, 6, 33, 5, 9, 6, 8]"
      ]
     },
     "execution_count": 2,
     "metadata": {},
     "output_type": "execute_result"
    }
   ],
   "source": [
    "#2. Write a Python program to multiplies all the items in a list\n",
    "list1 #see the privious decleared list"
   ]
  },
  {
   "cell_type": "code",
   "execution_count": 3,
   "id": "44ac13ea",
   "metadata": {},
   "outputs": [
    {
     "name": "stdout",
     "output_type": "stream",
     "text": [
      "4\n",
      "28\n",
      "224\n",
      "2016\n",
      "12096\n",
      "399168\n",
      "1995840\n",
      "17962560\n",
      "107775360\n",
      "862202880\n",
      "this is the sum of the given list item!----! 862202880\n"
     ]
    }
   ],
   "source": [
    "mul = 1\n",
    "for i in list1:\n",
    "    mul *=  i\n",
    "    print(mul)\n",
    "print(\"this is the sum of the given list item!----!\",mul)"
   ]
  },
  {
   "cell_type": "markdown",
   "id": "a9215754",
   "metadata": {},
   "source": [
    "# problem 3"
   ]
  },
  {
   "cell_type": "code",
   "execution_count": 4,
   "id": "de91a0ee",
   "metadata": {},
   "outputs": [
    {
     "data": {
      "text/plain": [
       "[4, 7, 8, 9, 6, 33, 5, 9, 6, 8]"
      ]
     },
     "execution_count": 4,
     "metadata": {},
     "output_type": "execute_result"
    }
   ],
   "source": [
    "#Write a Python program to get the largest number from a list\n",
    "list1 "
   ]
  },
  {
   "cell_type": "code",
   "execution_count": 5,
   "id": "d73ae25d",
   "metadata": {},
   "outputs": [
    {
     "name": "stdout",
     "output_type": "stream",
     "text": [
      "the max number in the list is !----! 33\n"
     ]
    }
   ],
   "source": [
    "new = list1[0] # 1st element of the given list\n",
    "for i in list1:\n",
    "    if  i > new:\n",
    "        new = i\n",
    "print(\"the max number in the list is !----!\",new)\n",
    "    "
   ]
  },
  {
   "cell_type": "markdown",
   "id": "ea5adff7",
   "metadata": {},
   "source": [
    "# problem 4"
   ]
  },
  {
   "cell_type": "code",
   "execution_count": 6,
   "id": "893b9318",
   "metadata": {},
   "outputs": [
    {
     "name": "stdout",
     "output_type": "stream",
     "text": [
      "[4, 7, 8, 9, 6, 33, 5, 9, 6, 8]\n",
      "the max number in the list is !----!\n",
      "4\n"
     ]
    }
   ],
   "source": [
    "#Write a Python program to get the smallest number from a list.\n",
    "list1\n",
    "print(list1)\n",
    "\n",
    "new_list = list1[0] # 1st element of the given list\n",
    "\n",
    "for i in list1:\n",
    "    if i < new_list:\n",
    "        new_list = i\n",
    "print(\"the max number in the list is !----!\",new_list, sep = '\\n')"
   ]
  },
  {
   "cell_type": "markdown",
   "id": "16f7e42c",
   "metadata": {},
   "source": [
    "# problem 5"
   ]
  },
  {
   "cell_type": "code",
   "execution_count": 7,
   "id": "71580531",
   "metadata": {},
   "outputs": [
    {
     "name": "stdout",
     "output_type": "stream",
     "text": [
      "2\n"
     ]
    }
   ],
   "source": [
    "#Write a Python program to count the number of strings where the string length is 2 or more and the first and last character are same from a given list of strings.\n",
    "\n",
    "def match_word(word):\n",
    "    ctr = 0\n",
    "    for word in word:\n",
    "        if len(word) > 1 and word[0] == word[-1]:\n",
    "            ctr += 1\n",
    "    return ctr\n",
    "\n",
    "\n",
    "print(match_word(['abc', 'xyz', 'aba', '1221']))\n",
    "\n"
   ]
  },
  {
   "cell_type": "markdown",
   "id": "a512c485",
   "metadata": {},
   "source": [
    "# problem 6"
   ]
  },
  {
   "cell_type": "code",
   "execution_count": 8,
   "id": "b9075a5e",
   "metadata": {},
   "outputs": [
    {
     "data": {
      "text/plain": [
       "[(1, 2), (2, 1), (2, 3), (2, 5), (4, 4)]"
      ]
     },
     "execution_count": 8,
     "metadata": {},
     "output_type": "execute_result"
    }
   ],
   "source": [
    "sample_list = [(2, 5), (1, 2), (4, 4), (2, 3), (2, 1)]\n",
    "\n",
    "sample_list.sort()\n",
    "sample_list"
   ]
  },
  {
   "cell_type": "markdown",
   "id": "eca02f3f",
   "metadata": {},
   "source": [
    "# problem 7"
   ]
  },
  {
   "cell_type": "code",
   "execution_count": 9,
   "id": "bf88ecb5",
   "metadata": {},
   "outputs": [
    {
     "name": "stdout",
     "output_type": "stream",
     "text": [
      "[1, 2, 4, 5, 6, 3, 7, 8, 9]\n"
     ]
    }
   ],
   "source": [
    "# a Python program to remove duplicates from a list\n",
    "\n",
    "x  = [1,2,4,5,6,3,2,1,4,7,8,9,6,5]\n",
    "new_x = []\n",
    "\n",
    "for i in x:\n",
    "    if i not in new_x:\n",
    "        new_x.append(i)\n",
    "print(new_x)"
   ]
  },
  {
   "cell_type": "markdown",
   "id": "5f4c0607",
   "metadata": {},
   "source": [
    "# problem 8|"
   ]
  },
  {
   "cell_type": "code",
   "execution_count": 10,
   "id": "fb2ff896",
   "metadata": {},
   "outputs": [
    {
     "name": "stdout",
     "output_type": "stream",
     "text": [
      "the list is not empty:----!\n"
     ]
    }
   ],
   "source": [
    "#Python program to check a list is empty or not.\n",
    "new_list = [1,2]\n",
    "\n",
    "if not new_list:\n",
    "    print('the list is empty:----!')\n",
    "else:\n",
    "    print(\"the list is not empty:----!\")\n",
    "    \n",
    "    "
   ]
  },
  {
   "cell_type": "markdown",
   "id": "24cb32ad",
   "metadata": {},
   "source": [
    "# problem 9"
   ]
  },
  {
   "cell_type": "code",
   "execution_count": 11,
   "id": "a224a0d6",
   "metadata": {},
   "outputs": [
    {
     "data": {
      "text/plain": [
       "[1, 2, 4, 5, 6, 3, 2, 1, 4, 7, 8, 9, 6, 5]"
      ]
     },
     "execution_count": 11,
     "metadata": {},
     "output_type": "execute_result"
    }
   ],
   "source": [
    "x"
   ]
  },
  {
   "cell_type": "code",
   "execution_count": 12,
   "id": "9d421db1",
   "metadata": {},
   "outputs": [],
   "source": [
    "new_x = x.copy()"
   ]
  },
  {
   "cell_type": "code",
   "execution_count": 13,
   "id": "bfce9137",
   "metadata": {},
   "outputs": [
    {
     "data": {
      "text/plain": [
       "[1, 2, 4, 5, 6, 3, 2, 1, 4, 7, 8, 9, 6, 5]"
      ]
     },
     "execution_count": 13,
     "metadata": {},
     "output_type": "execute_result"
    }
   ],
   "source": [
    "new_x"
   ]
  },
  {
   "cell_type": "code",
   "execution_count": 14,
   "id": "fdb590af",
   "metadata": {},
   "outputs": [],
   "source": [
    "ne_x = list(x)"
   ]
  },
  {
   "cell_type": "code",
   "execution_count": 15,
   "id": "37d91006",
   "metadata": {},
   "outputs": [
    {
     "data": {
      "text/plain": [
       "[1, 2, 4, 5, 6, 3, 2, 1, 4, 7, 8, 9, 6, 5]"
      ]
     },
     "execution_count": 15,
     "metadata": {},
     "output_type": "execute_result"
    }
   ],
   "source": [
    "ne_x"
   ]
  },
  {
   "cell_type": "markdown",
   "id": "2a816a44",
   "metadata": {},
   "source": [
    "# problem 10"
   ]
  },
  {
   "cell_type": "code",
   "execution_count": 16,
   "id": "9578e0c9",
   "metadata": {},
   "outputs": [
    {
     "name": "stdout",
     "output_type": "stream",
     "text": [
      "['NEVER', 'SCHOOL']\n"
     ]
    }
   ],
   "source": [
    "num_of_word = 3\n",
    "x = ['i', 'NEVER', 'GO', 'TO', 'SCHOOL']\n",
    "n = []\n",
    "\n",
    "for word in x:\n",
    "    if len(word) > num_of_word:\n",
    "        n.append(word)\n",
    "\n",
    "print(n)\n",
    "\n",
    "\n",
    "        "
   ]
  },
  {
   "cell_type": "code",
   "execution_count": 17,
   "id": "d1e818f2",
   "metadata": {},
   "outputs": [],
   "source": [
    "# 40 problem\n",
    "word_list = ['be','have','do','say','get','make','go','know','take','see','come','think',\n",
    "     'look','want','give','use','find','tell','ask','work','seem','feel','leave','call']"
   ]
  },
  {
   "cell_type": "code",
   "execution_count": 18,
   "id": "05662074",
   "metadata": {},
   "outputs": [
    {
     "data": {
      "text/plain": [
       "{'a': ['ask'],\n",
       " 'b': ['be'],\n",
       " 'c': ['call', 'come'],\n",
       " 'd': ['do'],\n",
       " 'f': ['feel', 'find'],\n",
       " 'g': ['get', 'give', 'go'],\n",
       " 'h': ['have'],\n",
       " 'k': ['know'],\n",
       " 'l': ['leave', 'look'],\n",
       " 'm': ['make'],\n",
       " 's': ['say', 'see', 'seem'],\n",
       " 't': ['take', 'tell', 'think'],\n",
       " 'u': ['use'],\n",
       " 'w': ['want', 'work']}"
      ]
     },
     "execution_count": 18,
     "metadata": {},
     "output_type": "execute_result"
    }
   ],
   "source": [
    "dict = {}\n",
    "word_list = list(sorted(word_list))\n",
    "for i in  word_list:\n",
    "    if i[0] in dict:\n",
    "        dict[i[0]].append(i)\n",
    "       \n",
    "    else:\n",
    "        dict[i[0]]= []\n",
    "        dict[i[0]].append(i)\n",
    "dict     "
   ]
  },
  {
   "cell_type": "code",
   "execution_count": 19,
   "id": "83a4544e",
   "metadata": {},
   "outputs": [
    {
     "data": {
      "text/plain": [
       "{'b': ['be'],\n",
       " 'h': ['have'],\n",
       " 'd': ['do'],\n",
       " 's': ['say', 'see', 'seem'],\n",
       " 'g': ['get', 'go', 'give'],\n",
       " 'm': ['make'],\n",
       " 'k': ['know'],\n",
       " 't': ['take', 'think', 'tell'],\n",
       " 'c': ['come', 'call'],\n",
       " 'l': ['look', 'leave'],\n",
       " 'w': ['want', 'work'],\n",
       " 'u': ['use'],\n",
       " 'f': ['find', 'feel'],\n",
       " 'a': ['ask']}"
      ]
     },
     "execution_count": 19,
     "metadata": {},
     "output_type": "execute_result"
    }
   ],
   "source": [
    "word_list = ['be','have','do','say','get','make','go','know','take','see','come','think',\n",
    "     'look','want','give','use','find','tell','ask','work','seem','feel','leave','call']\n",
    "\n",
    "\n",
    "dict1 = {}\n",
    "\n",
    "for i in word_list:\n",
    "    if i[0] in dict1:\n",
    "        dict1[i[0]].append(i)\n",
    "    else:\n",
    "        dict1[i[0]] = []\n",
    "        dict1[i[0]].append(i)\n",
    "dict1"
   ]
  },
  {
   "cell_type": "code",
   "execution_count": 20,
   "id": "2aa244ce",
   "metadata": {},
   "outputs": [],
   "source": [
    "# problem 41 create multiple list\n"
   ]
  },
  {
   "cell_type": "code",
   "execution_count": 21,
   "id": "12ee28f0",
   "metadata": {},
   "outputs": [
    {
     "data": {
      "text/plain": [
       "{'1': [],\n",
       " '2': [],\n",
       " '3': [],\n",
       " '4': [],\n",
       " '5': [],\n",
       " '6': [],\n",
       " '7': [],\n",
       " '8': [],\n",
       " '9': [],\n",
       " '10': [],\n",
       " '11': [],\n",
       " '12': [],\n",
       " '13': [],\n",
       " '14': [],\n",
       " '15': [],\n",
       " '16': [],\n",
       " '17': [],\n",
       " '18': [],\n",
       " '19': []}"
      ]
     },
     "execution_count": 21,
     "metadata": {},
     "output_type": "execute_result"
    }
   ],
   "source": [
    "new_dict = {}\n",
    "\n",
    "for i in range(1,20):\n",
    "    new_dict[str(i)]= []\n",
    "    \n",
    "new_dict"
   ]
  },
  {
   "cell_type": "code",
   "execution_count": 22,
   "id": "5a28c4a7",
   "metadata": {},
   "outputs": [
    {
     "name": "stdout",
     "output_type": "stream",
     "text": [
      "missing value is f,i,b,a,d\n"
     ]
    }
   ],
   "source": [
    "# problem 42 \n",
    "list1= ['a','b','d','f','i','e']\n",
    "list2 = ['m','n','e','h']\n",
    "# missing value finding using set difference\n",
    "miss_value = set(list1).difference(list2)\n",
    "print(\"missing value is\", ',' .join(miss_value))\n",
    " \n"
   ]
  },
  {
   "cell_type": "code",
   "execution_count": 23,
   "id": "8bf94789",
   "metadata": {},
   "outputs": [
    {
     "name": "stdout",
     "output_type": "stream",
     "text": [
      "missing value is n,h,m\n"
     ]
    }
   ],
   "source": [
    "additional_value = set(list2).difference(list1)\n",
    "print(\"missing value is\", ',' .join(additional_value))\n"
   ]
  },
  {
   "cell_type": "code",
   "execution_count": 24,
   "id": "33a17bb3",
   "metadata": {},
   "outputs": [],
   "source": [
    "#problem 43\n",
    "multi_list= [\n",
    "    ('name','age','university'),\n",
    "    ('sajib', 26, 'DIU'),\n",
    "    ('zahid',25,\"diu\")\n",
    "]"
   ]
  },
  {
   "cell_type": "code",
   "execution_count": 25,
   "id": "7ee96611",
   "metadata": {},
   "outputs": [],
   "source": [
    "val,val2,val3 = multi_list"
   ]
  },
  {
   "cell_type": "code",
   "execution_count": 26,
   "id": "8ec7c26b",
   "metadata": {},
   "outputs": [
    {
     "data": {
      "text/plain": [
       "('name', 'age', 'university')"
      ]
     },
     "execution_count": 26,
     "metadata": {},
     "output_type": "execute_result"
    }
   ],
   "source": [
    "val"
   ]
  },
  {
   "cell_type": "code",
   "execution_count": 27,
   "id": "640db972",
   "metadata": {},
   "outputs": [
    {
     "data": {
      "text/plain": [
       "('sajib', 26, 'DIU')"
      ]
     },
     "execution_count": 27,
     "metadata": {},
     "output_type": "execute_result"
    }
   ],
   "source": [
    "val2"
   ]
  },
  {
   "cell_type": "code",
   "execution_count": 28,
   "id": "84134068",
   "metadata": {},
   "outputs": [
    {
     "data": {
      "text/plain": [
       "('zahid', 25, 'diu')"
      ]
     },
     "execution_count": 28,
     "metadata": {},
     "output_type": "execute_result"
    }
   ],
   "source": [
    "val3"
   ]
  },
  {
   "cell_type": "code",
   "execution_count": 29,
   "id": "f6d25148",
   "metadata": {},
   "outputs": [
    {
     "data": {
      "text/plain": [
       "[[1, 2, 3, 4, 5],\n",
       " [6, 7, 8, 9, 10],\n",
       " [11, 12, 13, 14, 15],\n",
       " [16, 17, 18, 19, 20],\n",
       " [21, 22, 23, 24, 25]]"
      ]
     },
     "execution_count": 29,
     "metadata": {},
     "output_type": "execute_result"
    }
   ],
   "source": [
    "#44 no problem\n",
    "li = [1,2,3,4,5,6,7,8,9,10,11,12,13,14,15,16,17,18,19]\n",
    "\n",
    "li = [[5*i+j for j in range(1,6)] for i in range(5)]\n",
    "li"
   ]
  },
  {
   "cell_type": "code",
   "execution_count": 30,
   "id": "e4c2cbf7",
   "metadata": {},
   "outputs": [
    {
     "data": {
      "text/plain": [
       "[(1, 2),\n",
       " (3, 4),\n",
       " (1, 2),\n",
       " (5, 6),\n",
       " (7, 8),\n",
       " (1, 2),\n",
       " (3, 4),\n",
       " (3, 4),\n",
       " (7, 8),\n",
       " (9, 10)]"
      ]
     },
     "execution_count": 30,
     "metadata": {},
     "output_type": "execute_result"
    }
   ],
   "source": [
    "# problem 45\n",
    "l = [(1, 2), (3, 4), (1, 2), (5, 6), (7, 8), (1, 2), (3, 4), (3, 4), (7, 8), (9, 10)]\n",
    "l"
   ]
  },
  {
   "cell_type": "code",
   "execution_count": 31,
   "id": "c28a09c0",
   "metadata": {},
   "outputs": [
    {
     "name": "stdout",
     "output_type": "stream",
     "text": [
      "[1, 2, 3, 4, 5, 6, 7, 8, 9, 10]\n"
     ]
    }
   ],
   "source": [
    "print(sorted(set().union(*l)))"
   ]
  },
  {
   "cell_type": "code",
   "execution_count": 32,
   "id": "6c563afe",
   "metadata": {},
   "outputs": [
    {
     "name": "stdout",
     "output_type": "stream",
     "text": [
      "[1, 3, 5, 7, 9]\n"
     ]
    }
   ],
   "source": [
    "# problem 46\n",
    "x = [1, 2, 3, 4, 5, 6, 7, 8, 9]\n",
    "print(x[::2])"
   ]
  },
  {
   "cell_type": "code",
   "execution_count": 33,
   "id": "66b56578",
   "metadata": {},
   "outputs": [
    {
     "name": "stdout",
     "output_type": "stream",
     "text": [
      "1\n",
      "3\n",
      "5\n",
      "7\n",
      "9\n"
     ]
    }
   ],
   "source": [
    "x = [1, 2, 3, 4, 5, 6, 7, 8, 9]\n",
    "\n",
    "for i in x:\n",
    "    if i%2 == 0:\n",
    "        continue\n",
    "    print(i)"
   ]
  },
  {
   "cell_type": "code",
   "execution_count": 34,
   "id": "7fcb2dad",
   "metadata": {},
   "outputs": [
    {
     "name": "stdout",
     "output_type": "stream",
     "text": [
      "1\n",
      "3\n",
      "5\n",
      "7\n",
      "9\n"
     ]
    }
   ],
   "source": [
    "x = [1, 2, 3, 4, 5, 6, 7, 8, 9]\n",
    "\n",
    "for i in x:\n",
    "    if i%2 == 1:\n",
    "        print(i)"
   ]
  },
  {
   "cell_type": "code",
   "execution_count": 35,
   "id": "c4f9b891",
   "metadata": {},
   "outputs": [],
   "source": [
    "# problem 47\n",
    "color = ['Red', 'Green', 'Black']\n",
    "color = [x for item in color for x in ('color',item)]"
   ]
  },
  {
   "cell_type": "code",
   "execution_count": 36,
   "id": "6f28f343",
   "metadata": {},
   "outputs": [
    {
     "data": {
      "text/plain": [
       "['color', 'Red', 'color', 'Green', 'color', 'Black']"
      ]
     },
     "execution_count": 36,
     "metadata": {},
     "output_type": "execute_result"
    }
   ],
   "source": [
    "color"
   ]
  },
  {
   "cell_type": "code",
   "execution_count": 37,
   "id": "c18d5b48",
   "metadata": {},
   "outputs": [
    {
     "name": "stdout",
     "output_type": "stream",
     "text": [
      "['color', 'Red', 'color', 'Green', 'color', 'Black']\n"
     ]
    }
   ],
   "source": [
    "color = ['Red', 'Green', 'Black']\n",
    "new_color =[]\n",
    "\n",
    "\n",
    "for item in color:\n",
    "    new_color.append('color')\n",
    "    new_color.append(item)\n",
    "    \n",
    "print(new_color)"
   ]
  },
  {
   "cell_type": "code",
   "execution_count": 38,
   "id": "9a2c5cad",
   "metadata": {},
   "outputs": [
    {
     "name": "stdout",
     "output_type": "stream",
     "text": [
      "['Red']\n",
      "['Green']\n",
      "['Black']\n"
     ]
    }
   ],
   "source": [
    "# problem 48\n",
    "colors = [['Red'], ['Green'], ['Black']]\n",
    "print('\\n'.join([str(lst) for lst in colors])) "
   ]
  },
  {
   "cell_type": "code",
   "execution_count": 39,
   "id": "26b4c545",
   "metadata": {},
   "outputs": [
    {
     "name": "stdout",
     "output_type": "stream",
     "text": [
      "['Red']\n",
      "['Green']\n",
      "['Black']\n"
     ]
    }
   ],
   "source": [
    "for i in color:\n",
    "    print(str([i]))  "
   ]
  },
  {
   "cell_type": "code",
   "execution_count": 40,
   "id": "99ea81c6",
   "metadata": {},
   "outputs": [],
   "source": [
    "#problem 49 \n",
    "color_name = [\"Black\", \"Red\", \"Maroon\", \"Yellow\"]\n",
    "color_code = [\"#000000\", \"#FF0000\", \"#800000\", \"#FFFF00\"]\n"
   ]
  },
  {
   "cell_type": "code",
   "execution_count": 41,
   "id": "1e594b7e",
   "metadata": {},
   "outputs": [
    {
     "name": "stdout",
     "output_type": "stream",
     "text": [
      "[{'color_name': 'Black', 'color_code': '#000000'}, {'color_name': 'Red', 'color_code': '#FF0000'}, {'color_name': 'Maroon', 'color_code': '#800000'}, {'color_name': 'Yellow', 'color_code': '#FFFF00'}]\n"
     ]
    }
   ],
   "source": [
    "print([{'color_name': cn,'color_code': cc} for cn,cc in zip(color_name,color_code)])"
   ]
  },
  {
   "cell_type": "code",
   "execution_count": 42,
   "id": "ac7da337",
   "metadata": {},
   "outputs": [
    {
     "name": "stdout",
     "output_type": "stream",
     "text": [
      "[{'Black', 'color_c:', '#000000', 'color_n:'}, {'color_c:', '#FF0000', 'Red', 'color_n:'}, {'Maroon', 'color_c:', '#800000', 'color_n:'}, {'Yellow', 'color_c:', '#FFFF00', 'color_n:'}]\n"
     ]
    }
   ],
   "source": [
    "color_n = [\"Black\", \"Red\", \"Maroon\", \"Yellow\"]\n",
    "color_c = [\"#000000\", \"#FF0000\", \"#800000\", \"#FFFF00\"]\n",
    "both = []\n",
    "for i in range(len(color_n and color_c)):\n",
    "    \n",
    "    both.append({'color_n:', color_n[i], 'color_c:', color_c[i]})\n",
    "print(both)"
   ]
  },
  {
   "cell_type": "markdown",
   "id": "3367ebf7",
   "metadata": {},
   "source": [
    "# new problem solve List "
   ]
  },
  {
   "cell_type": "markdown",
   "id": "e704fbba",
   "metadata": {},
   "source": [
    "# problem 1"
   ]
  },
  {
   "cell_type": "code",
   "execution_count": 43,
   "id": "82d02752",
   "metadata": {},
   "outputs": [
    {
     "name": "stdout",
     "output_type": "stream",
     "text": [
      "the total sum of give list is ---> 1\n",
      "the total sum of give list is ---> 3\n",
      "the total sum of give list is ---> 6\n",
      "the total sum of give list is ---> 10\n",
      "the total sum of give list is ---> 15\n",
      "the total sum of give list is ---> 21\n",
      "the total sum of give list is ---> 30\n",
      "the total sum of give list is ---> 38\n",
      "the total sum of give list is ---> 45\n",
      "sum of give list is ---> 45\n"
     ]
    }
   ],
   "source": [
    "#a Python program to sum all the items in a list\n",
    "total = 0\n",
    "lis1 = [1,2,3,4,5,6,9,8,7] \n",
    "for i in lis1:\n",
    "    total += i\n",
    "    print(\"the total sum of give list is --->\", total)\n",
    "print(\"sum of give list is --->\", total)    "
   ]
  },
  {
   "cell_type": "markdown",
   "id": "8bc5ba19",
   "metadata": {},
   "source": [
    "# problem 2"
   ]
  },
  {
   "cell_type": "code",
   "execution_count": 44,
   "id": "d195831e",
   "metadata": {},
   "outputs": [
    {
     "data": {
      "text/plain": [
       "[1, 2, 3, 4, 5, 6, 9, 8, 7]"
      ]
     },
     "execution_count": 44,
     "metadata": {},
     "output_type": "execute_result"
    }
   ],
   "source": [
    "lis1"
   ]
  },
  {
   "cell_type": "code",
   "execution_count": 45,
   "id": "d27429aa",
   "metadata": {},
   "outputs": [
    {
     "name": "stdout",
     "output_type": "stream",
     "text": [
      "the total value after multiplication is -----> 362880\n"
     ]
    }
   ],
   "source": [
    "mul= 1\n",
    "for i in lis1:\n",
    "    mul = mul * i\n",
    "print(\"the total value after multiplication is ----->\", mul)"
   ]
  },
  {
   "cell_type": "markdown",
   "id": "c76fdbb9",
   "metadata": {},
   "source": [
    "# problem 3"
   ]
  },
  {
   "cell_type": "code",
   "execution_count": 46,
   "id": "2f72d26e",
   "metadata": {},
   "outputs": [
    {
     "data": {
      "text/plain": [
       "[1, 2, 3, 4, 5, 6, 9, 8, 7]"
      ]
     },
     "execution_count": 46,
     "metadata": {},
     "output_type": "execute_result"
    }
   ],
   "source": [
    "# largest number from list \n",
    "lis1"
   ]
  },
  {
   "cell_type": "code",
   "execution_count": 47,
   "id": "a8d6a00f",
   "metadata": {},
   "outputs": [
    {
     "name": "stdout",
     "output_type": "stream",
     "text": [
      "the max number in the list is !----! 9\n"
     ]
    }
   ],
   "source": [
    "new = lis1[0] # 1st element of the given list\n",
    "for i in lis1:\n",
    "    if  i > new:\n",
    "        new = i\n",
    "print(\"the max number in the list is !----!\",new)\n",
    "    "
   ]
  },
  {
   "cell_type": "markdown",
   "id": "cfc07cb9",
   "metadata": {},
   "source": [
    "# problem 4"
   ]
  },
  {
   "cell_type": "code",
   "execution_count": 48,
   "id": "a886735b",
   "metadata": {},
   "outputs": [
    {
     "name": "stdout",
     "output_type": "stream",
     "text": [
      "[7, 5, 3, 9, 1, 2, 6, 4, 8]\n",
      "the min number in the list is !----!\n",
      "1\n"
     ]
    }
   ],
   "source": [
    "#Write a Python program to get the smallest number from a list.\n",
    "lis2 =[7,5,3,9,1,2,6,4,8]\n",
    "print(lis2)\n",
    "\n",
    "new_list = lis2[0] # 1st element of the given list\n",
    "\n",
    "for i in lis2:\n",
    "    if i < new_list:\n",
    "        new_list = i\n",
    "print(\"the min number in the list is !----!\",new_list, sep = '\\n')"
   ]
  },
  {
   "cell_type": "markdown",
   "id": "606583d8",
   "metadata": {},
   "source": [
    "# problem 5"
   ]
  },
  {
   "cell_type": "code",
   "execution_count": 49,
   "id": "97c1f6d2",
   "metadata": {},
   "outputs": [
    {
     "name": "stdout",
     "output_type": "stream",
     "text": [
      "['aba']\n",
      "['aba', '1221']\n",
      "['aba', '1221', 'aaa']\n",
      "3\n"
     ]
    }
   ],
   "source": [
    "lis = ['abc', 'xyz', 'aba','1221','aaa']\n",
    "new = []\n",
    "count =0\n",
    "for i in lis:\n",
    "    if len(i)> 2 and i[0] == i[-1]:\n",
    "        new.append(i)\n",
    "        print(new)\n",
    "        count += 1\n",
    "print(count)"
   ]
  },
  {
   "cell_type": "markdown",
   "id": "30b99b71",
   "metadata": {},
   "source": [
    "# problem 6"
   ]
  },
  {
   "cell_type": "code",
   "execution_count": 50,
   "id": "26a9429e",
   "metadata": {},
   "outputs": [
    {
     "name": "stdout",
     "output_type": "stream",
     "text": [
      "[(2, 1), (1, 2), (2, 3), (4, 4), (2, 5)]\n"
     ]
    }
   ],
   "source": [
    "# sample list = [(2,5),(1,2),(4,4),(2,3),(2,1)]\n",
    "# sample list = [(2,1),(1,2),(2,3),(4,4),(2,5)]\n",
    "lis = [(2,5),(1,2),(4,4),(2,3),(2,1)]\n",
    "new_lis = []\n",
    "for i in lis:\n",
    "    new_lis.append(i[1])\n",
    "new_lis = sorted(new_lis)\n",
    "\n",
    "final_li =[]\n",
    "for i in new_lis:\n",
    "    for touple1 in lis:\n",
    "        if touple1[1] ==i:\n",
    "            final_li.append(touple1)   \n",
    "print(final_li)"
   ]
  },
  {
   "cell_type": "code",
   "execution_count": 51,
   "id": "1f875432",
   "metadata": {},
   "outputs": [
    {
     "data": {
      "text/plain": [
       "[(2, 1), (1, 2), (2, 3), (4, 4), (2, 5)]"
      ]
     },
     "execution_count": 51,
     "metadata": {},
     "output_type": "execute_result"
    }
   ],
   "source": [
    "# sample list = [(2,5),(1,2),(4,4),(2,3),(2,1)]\n",
    "# sample list = [(2,1),(1,2),(2,3),(4,4),(2,5)]\n",
    "lis1 = [(2,5),(1,2),(4,4),(2,3),(2,1)]\n",
    "\n",
    "new_lis = []\n",
    "for i in lis1:\n",
    "    new_lis.append(i[1])\n",
    "new_lis = sorted(new_lis)\n",
    "\n",
    "final_lis=[]\n",
    "\n",
    "for i in new_lis:\n",
    "    for item in lis1:\n",
    "        if item[1] == i:\n",
    "            final_lis.append(item)\n",
    "            \n",
    "final_lis"
   ]
  },
  {
   "cell_type": "code",
   "execution_count": 52,
   "id": "76210033",
   "metadata": {},
   "outputs": [],
   "source": [
    "lis1 = [(2,5),(1,2),(4,4),(2,3),(2,1)]\n",
    "\n",
    "new_li = []\n",
    "for i in lis1:\n",
    "    new_li.append(i[1])\n",
    "    new_li = sorted(new_li)\n",
    "    \n",
    "final_list = []\n",
    "\n",
    "for i in new_li:\n",
    "    for item in lis1:\n",
    "        if item[1] == i:\n",
    "            final_list.append(item)\n",
    "            \n",
    "    \n"
   ]
  },
  {
   "cell_type": "code",
   "execution_count": 53,
   "id": "83d14be3",
   "metadata": {},
   "outputs": [
    {
     "data": {
      "text/plain": [
       "[(2, 1), (1, 2), (2, 3), (4, 4), (2, 5)]"
      ]
     },
     "execution_count": 53,
     "metadata": {},
     "output_type": "execute_result"
    }
   ],
   "source": [
    "final_list"
   ]
  },
  {
   "cell_type": "markdown",
   "id": "be87a509",
   "metadata": {},
   "source": [
    "# problem 7 "
   ]
  },
  {
   "cell_type": "code",
   "execution_count": 54,
   "id": "f50002d5",
   "metadata": {},
   "outputs": [],
   "source": [
    "li = [1,5,9,2,3,6,4,7,8,9,8,5,2]\n",
    "new_li = []\n",
    "\n",
    "for i in li:\n",
    "    if i not in new_li:\n",
    "        new_li.append(i)\n",
    "    "
   ]
  },
  {
   "cell_type": "code",
   "execution_count": 55,
   "id": "b8251258",
   "metadata": {},
   "outputs": [
    {
     "data": {
      "text/plain": [
       "[1, 5, 9, 2, 3, 6, 4, 7, 8]"
      ]
     },
     "execution_count": 55,
     "metadata": {},
     "output_type": "execute_result"
    }
   ],
   "source": [
    "new_li"
   ]
  },
  {
   "cell_type": "markdown",
   "id": "7a00b78d",
   "metadata": {},
   "source": [
    "# problem 8"
   ]
  },
  {
   "cell_type": "code",
   "execution_count": 56,
   "id": "d84e6ad4",
   "metadata": {},
   "outputs": [
    {
     "name": "stdout",
     "output_type": "stream",
     "text": [
      "the list is not empty \n"
     ]
    }
   ],
   "source": [
    "li = [2]\n",
    "if i not in li:\n",
    "    print(\"the list is empty\")\n",
    "else:\n",
    "    print(\"the list is not empty \")"
   ]
  },
  {
   "cell_type": "markdown",
   "id": "8d9e0090",
   "metadata": {},
   "source": [
    "# problem 9"
   ]
  },
  {
   "cell_type": "code",
   "execution_count": 57,
   "id": "72822160",
   "metadata": {},
   "outputs": [],
   "source": [
    "li = [1,5,9,2,3,6,4,7,8,9,8,5,2]\n",
    "\n",
    "li1 = li.copy()"
   ]
  },
  {
   "cell_type": "code",
   "execution_count": 58,
   "id": "92a90cd9",
   "metadata": {},
   "outputs": [
    {
     "data": {
      "text/plain": [
       "[1, 5, 9, 2, 3, 6, 4, 7, 8, 9, 8, 5, 2]"
      ]
     },
     "execution_count": 58,
     "metadata": {},
     "output_type": "execute_result"
    }
   ],
   "source": [
    "li1"
   ]
  },
  {
   "cell_type": "markdown",
   "id": "3c0e9bd5",
   "metadata": {},
   "source": [
    "# problem 10"
   ]
  },
  {
   "cell_type": "code",
   "execution_count": 59,
   "id": "e94c6b67",
   "metadata": {},
   "outputs": [],
   "source": [
    "words = \"I did not want to go school every day\"\n",
    "words = words.split(\" \")"
   ]
  },
  {
   "cell_type": "code",
   "execution_count": 60,
   "id": "9bcdd9aa",
   "metadata": {},
   "outputs": [
    {
     "data": {
      "text/plain": [
       "['I', 'did', 'not', 'want', 'to', 'go', 'school', 'every', 'day']"
      ]
     },
     "execution_count": 60,
     "metadata": {},
     "output_type": "execute_result"
    }
   ],
   "source": [
    "words"
   ]
  },
  {
   "cell_type": "code",
   "execution_count": 61,
   "id": "d104d0b7",
   "metadata": {},
   "outputs": [
    {
     "name": "stdout",
     "output_type": "stream",
     "text": [
      "['want']\n",
      "['want', 'school']\n",
      "['want', 'school', 'every']\n",
      "3\n"
     ]
    }
   ],
   "source": [
    "n = 3 \n",
    "sort_word = []\n",
    "count = 0\n",
    "for i in words:\n",
    "    if len(i) > n:\n",
    "        sort_word.append(i)\n",
    "        print(sort_word)\n",
    "        count += 1\n",
    "print(count)\n",
    "        "
   ]
  },
  {
   "cell_type": "markdown",
   "id": "90caad3d",
   "metadata": {},
   "source": [
    "# problem 11"
   ]
  },
  {
   "cell_type": "code",
   "execution_count": 62,
   "id": "67658699",
   "metadata": {},
   "outputs": [
    {
     "name": "stdout",
     "output_type": "stream",
     "text": [
      "True\n",
      "False\n"
     ]
    }
   ],
   "source": [
    "def common_num(list1, list2):\n",
    "    \n",
    "    for x in list1:\n",
    "        for y in list2:\n",
    "            if x == y:\n",
    "                return True\n",
    "    return False\n",
    "          \n",
    "print(common_num([1, 2, 3, 4, 5], [5, 6, 7, 8, 9]))\n",
    "print(common_num([1, 2, 3, 4, 5], [6, 7, 8, 9,8])) "
   ]
  },
  {
   "cell_type": "markdown",
   "id": "e6055545",
   "metadata": {},
   "source": [
    "# problem 12"
   ]
  },
  {
   "cell_type": "code",
   "execution_count": 63,
   "id": "a12c750f",
   "metadata": {},
   "outputs": [
    {
     "name": "stdout",
     "output_type": "stream",
     "text": [
      "['Green', 'White', 'Black']\n"
     ]
    }
   ],
   "source": [
    "#print a specified list after removing the 0th, 4th and 5th elements.\n",
    "\n",
    "sample_list = ['Red', 'Green', 'White', 'Black', 'Pink', 'Yellow']\n",
    "\n",
    "new_lis = []\n",
    "for i in range(len(sample_list)):\n",
    "    if i== 0 or i == 4 or i== 5:\n",
    "        continue\n",
    "    else:\n",
    "        new_lis.append(sample_list[i])\n",
    "print(new_lis)"
   ]
  },
  {
   "cell_type": "markdown",
   "id": "a098f6fd",
   "metadata": {},
   "source": [
    "# problem 13"
   ]
  },
  {
   "cell_type": "code",
   "execution_count": 64,
   "id": "09383727",
   "metadata": {},
   "outputs": [
    {
     "data": {
      "text/plain": [
       "[[['******'], ['******'], ['******'], ['******']],\n",
       " [['******'], ['******'], ['******'], ['******']],\n",
       " [['******'], ['******'], ['******'], ['******']]]"
      ]
     },
     "execution_count": 64,
     "metadata": {},
     "output_type": "execute_result"
    }
   ],
   "source": [
    "#Write a Python program to generate a 3*4*6 3D array whose each element is   *  \n",
    "val = ('*' *6).split()\n",
    "3*[4*[val]]"
   ]
  },
  {
   "cell_type": "code",
   "execution_count": 65,
   "id": "9f0dc9cb",
   "metadata": {},
   "outputs": [
    {
     "data": {
      "text/plain": [
       "[[['*', '*', '*', '*', '*', '*'],\n",
       "  ['*', '*', '*', '*', '*', '*'],\n",
       "  ['*', '*', '*', '*', '*', '*'],\n",
       "  ['*', '*', '*', '*', '*', '*']],\n",
       " [['*', '*', '*', '*', '*', '*'],\n",
       "  ['*', '*', '*', '*', '*', '*'],\n",
       "  ['*', '*', '*', '*', '*', '*'],\n",
       "  ['*', '*', '*', '*', '*', '*']],\n",
       " [['*', '*', '*', '*', '*', '*'],\n",
       "  ['*', '*', '*', '*', '*', '*'],\n",
       "  ['*', '*', '*', '*', '*', '*'],\n",
       "  ['*', '*', '*', '*', '*', '*']]]"
      ]
     },
     "execution_count": 65,
     "metadata": {},
     "output_type": "execute_result"
    }
   ],
   "source": [
    "#Write a Python program to generate a 3*4*6 3D array whose each element is   *  \n",
    "val = ('* ' *6).split()\n",
    "3*[4*[val]]"
   ]
  },
  {
   "cell_type": "markdown",
   "id": "c33b41f8",
   "metadata": {},
   "source": [
    "# problem 14"
   ]
  },
  {
   "cell_type": "code",
   "execution_count": 66,
   "id": "721efecb",
   "metadata": {},
   "outputs": [
    {
     "name": "stdout",
     "output_type": "stream",
     "text": [
      "[15, 17, 19]\n"
     ]
    }
   ],
   "source": [
    "#Write a Python program to print the numbers of a specified list after removing even numbers from it.\n",
    "li = [10,12,15,18,17,19]\n",
    "\n",
    "li = [x for x in li if x % 2 !=0]\n",
    "print(li)"
   ]
  },
  {
   "cell_type": "code",
   "execution_count": 67,
   "id": "00990891",
   "metadata": {},
   "outputs": [
    {
     "name": "stdout",
     "output_type": "stream",
     "text": [
      "[15, 17, 19]\n"
     ]
    }
   ],
   "source": [
    "for i in li:\n",
    "    if i % 2 ==0:\n",
    "        continue\n",
    "print(li)        "
   ]
  },
  {
   "cell_type": "code",
   "execution_count": 68,
   "id": "013d0c62",
   "metadata": {},
   "outputs": [
    {
     "name": "stdout",
     "output_type": "stream",
     "text": [
      "[15, 17, 19]\n"
     ]
    }
   ],
   "source": [
    "new_li = []\n",
    "for item in li:\n",
    "    if item % 2 != 0:\n",
    "        new_li.append(item)\n",
    "print(li)"
   ]
  },
  {
   "cell_type": "markdown",
   "id": "e619bee0",
   "metadata": {},
   "source": [
    "# problem 17"
   ]
  },
  {
   "cell_type": "code",
   "execution_count": 69,
   "id": "9e147f81",
   "metadata": {},
   "outputs": [
    {
     "name": "stdout",
     "output_type": "stream",
     "text": [
      "[1, 2, 3, 4, 5]\n"
     ]
    }
   ],
   "source": [
    "#generate and print a list except for the first 5 elements, where the values are square of numbers between 1 and 30\n",
    "new_lis1 = []\n",
    "\n",
    "for i in range(1,10):\n",
    "    if i*i <= 30:\n",
    "        new_lis1.append(i)\n",
    "    \n",
    "print(new_lis1)    "
   ]
  },
  {
   "cell_type": "code",
   "execution_count": 70,
   "id": "5dc566c7",
   "metadata": {},
   "outputs": [
    {
     "name": "stdout",
     "output_type": "stream",
     "text": [
      "[1, 2, 3, 4, 5]\n"
     ]
    }
   ],
   "source": [
    "new_lis3 = [ i for i in range(1,10) if i*i <= 30 ]\n",
    "print(new_lis3)"
   ]
  },
  {
   "cell_type": "markdown",
   "id": "b5e1e3ff",
   "metadata": {},
   "source": [
    "# problem 15\n"
   ]
  },
  {
   "cell_type": "code",
   "execution_count": 71,
   "id": "f85b1094",
   "metadata": {},
   "outputs": [
    {
     "name": "stdout",
     "output_type": "stream",
     "text": [
      "[3, 2, 9, 4, 7, 3, 5, 5]\n"
     ]
    }
   ],
   "source": [
    "# #15. Write a Python program to shuffle and print a specified list.\n",
    "x =[3,2,5,7,9,5,4,3]\n",
    "\n",
    "from random import shuffle\n",
    "shuffle(x)\n",
    "print(x)"
   ]
  },
  {
   "cell_type": "markdown",
   "id": "cbb827c6",
   "metadata": {},
   "source": [
    "# problem 16\n",
    "There is a problem "
   ]
  },
  {
   "cell_type": "code",
   "execution_count": 72,
   "id": "2fd867b0",
   "metadata": {},
   "outputs": [
    {
     "name": "stdout",
     "output_type": "stream",
     "text": [
      "[1, 2, 3, 4, 5]\n",
      "[1, 2, 3, 4, 5]\n",
      "[1, 2, 3, 4, 5]\n"
     ]
    }
   ],
   "source": [
    "#Write a Python program to generate and print a list of the first and last 5 elements \n",
    "#where the values are square numbers between 1 and 30 (both included).\n",
    "\n",
    "y = list()\n",
    "\n",
    "for i in range(1,30):\n",
    "    if i*i <= 30:\n",
    "        y.append(i)\n",
    "print(y)\n",
    "\n",
    "print(y[: 5])\n",
    "print(y[-5 :])\n",
    "        \n",
    "       \n",
    "\n",
    "        \n"
   ]
  },
  {
   "cell_type": "markdown",
   "id": "b1801916",
   "metadata": {},
   "source": [
    "# problem 18"
   ]
  },
  {
   "cell_type": "code",
   "execution_count": 73,
   "id": "57ee673b",
   "metadata": {},
   "outputs": [
    {
     "name": "stdout",
     "output_type": "stream",
     "text": [
      "[(1, 2, 3, 4), (1, 2, 4, 3), (1, 3, 2, 4), (1, 3, 4, 2), (1, 4, 2, 3), (1, 4, 3, 2), (2, 1, 3, 4), (2, 1, 4, 3), (2, 3, 1, 4), (2, 3, 4, 1), (2, 4, 1, 3), (2, 4, 3, 1), (3, 1, 2, 4), (3, 1, 4, 2), (3, 2, 1, 4), (3, 2, 4, 1), (3, 4, 1, 2), (3, 4, 2, 1), (4, 1, 2, 3), (4, 1, 3, 2), (4, 2, 1, 3), (4, 2, 3, 1), (4, 3, 1, 2), (4, 3, 2, 1)]\n"
     ]
    }
   ],
   "source": [
    "lis = [1,2,3,4]\n",
    "\n",
    "import itertools\n",
    "print(list(itertools.permutations(lis)))"
   ]
  },
  {
   "cell_type": "markdown",
   "id": "b843036d",
   "metadata": {},
   "source": [
    "# problem 19"
   ]
  },
  {
   "cell_type": "code",
   "execution_count": 74,
   "id": "b08dce7d",
   "metadata": {},
   "outputs": [
    {
     "name": "stdout",
     "output_type": "stream",
     "text": [
      "[8, 9]\n",
      "[3, 5, 6, 7]\n"
     ]
    }
   ],
   "source": [
    "#Write a Python program to get the difference between the two lists.\n",
    "lis1 = [1,3,2,3,5,4,6,7]\n",
    "lis2 = [1,2,4,8,9,1,2,4]\n",
    "\n",
    "lis3 = list(set(lis2) - set(lis1))\n",
    "print(lis3)\n",
    "lis4 = lis3 = list(set(lis1) - set(lis2))\n",
    "print(lis4)"
   ]
  },
  {
   "cell_type": "code",
   "execution_count": 75,
   "id": "9e9b3054",
   "metadata": {},
   "outputs": [],
   "source": [
    "new_li = lis3 + lis4"
   ]
  },
  {
   "cell_type": "code",
   "execution_count": 76,
   "id": "98793d98",
   "metadata": {},
   "outputs": [
    {
     "data": {
      "text/plain": [
       "[3, 5, 6, 7, 3, 5, 6, 7]"
      ]
     },
     "execution_count": 76,
     "metadata": {},
     "output_type": "execute_result"
    }
   ],
   "source": [
    "new_li"
   ]
  },
  {
   "cell_type": "markdown",
   "id": "c670867e",
   "metadata": {},
   "source": [
    "# problem 20"
   ]
  },
  {
   "cell_type": "code",
   "execution_count": 77,
   "id": "b0358d0c",
   "metadata": {},
   "outputs": [
    {
     "name": "stdout",
     "output_type": "stream",
     "text": [
      "0 1\n",
      "1 2\n",
      "2 5\n",
      "3 3\n",
      "4 4\n",
      "5 8\n",
      "6 9\n"
     ]
    }
   ],
   "source": [
    "li = [1,2,5,3,4,8,9]\n",
    "\n",
    "for index , i in enumerate(li):\n",
    "    print(index ,i)"
   ]
  },
  {
   "cell_type": "markdown",
   "id": "b1529aa0",
   "metadata": {},
   "source": [
    "# problem 21"
   ]
  },
  {
   "cell_type": "code",
   "execution_count": 78,
   "id": "4501b5e5",
   "metadata": {},
   "outputs": [
    {
     "data": {
      "text/plain": [
       "'sdt126'"
      ]
     },
     "execution_count": 78,
     "metadata": {},
     "output_type": "execute_result"
    }
   ],
   "source": [
    "#Write a Python program to convert a list of characters into a string\n",
    "\n",
    "li = ['s','d','t','1','2','6']\n",
    "li = ''.join(li)\n",
    "li"
   ]
  },
  {
   "cell_type": "code",
   "execution_count": 79,
   "id": "9b272cb1",
   "metadata": {},
   "outputs": [
    {
     "name": "stdout",
     "output_type": "stream",
     "text": [
      "<class 'str'>\n"
     ]
    }
   ],
   "source": [
    "print(type(li))"
   ]
  },
  {
   "cell_type": "markdown",
   "id": "3a8eeb17",
   "metadata": {},
   "source": [
    "# problem 22"
   ]
  },
  {
   "cell_type": "code",
   "execution_count": 80,
   "id": "9a88813b",
   "metadata": {},
   "outputs": [
    {
     "name": "stdout",
     "output_type": "stream",
     "text": [
      "4\n"
     ]
    }
   ],
   "source": [
    "#Write a Python program to find the index of an item in a specified list\n",
    "li = ['s','d','t','1','2','6']\n",
    "\n",
    "print(li.index('2'))"
   ]
  },
  {
   "cell_type": "code",
   "execution_count": 81,
   "id": "158cc259",
   "metadata": {},
   "outputs": [
    {
     "name": "stdout",
     "output_type": "stream",
     "text": [
      "2\n"
     ]
    }
   ],
   "source": [
    "for i in li:\n",
    "    if i == 't':\n",
    "        print(li.index(i))"
   ]
  },
  {
   "cell_type": "markdown",
   "id": "f6760878",
   "metadata": {},
   "source": [
    "# problem 23"
   ]
  },
  {
   "cell_type": "code",
   "execution_count": 82,
   "id": "21954a94",
   "metadata": {},
   "outputs": [
    {
     "name": "stdout",
     "output_type": "stream",
     "text": [
      "[6, 8, 9, 2, 5, 4, 'l', 'o', 7, 'u']\n"
     ]
    }
   ],
   "source": [
    "#Write a Python program to flatten a shallow list\n",
    "def flatten(li):\n",
    "    return[x for sublist in li for x in sublist ]\n",
    "\n",
    "li  = [[6,8,9], [2,5,4], ['l'], ['o',7,'u']]\n",
    "print(flatten(li))"
   ]
  },
  {
   "cell_type": "code",
   "execution_count": 83,
   "id": "02b45616",
   "metadata": {},
   "outputs": [
    {
     "name": "stdout",
     "output_type": "stream",
     "text": [
      "[6, 8, 9, 2, 5, 4, 'l', 'o', 7, 'u']\n"
     ]
    }
   ],
   "source": [
    "# using for loop \n",
    "\n",
    "li = [[6, 8, 9], [2, 5, 4], ['l'], ['o', 7, 'u']]\n",
    "new_lis = []\n",
    "\n",
    "for i in li:\n",
    "    for item in i:\n",
    "        if item not in new_lis:\n",
    "            new_lis.append(item)\n",
    "print(new_lis)"
   ]
  },
  {
   "cell_type": "markdown",
   "id": "3006ba3a",
   "metadata": {},
   "source": [
    "# problem 24"
   ]
  },
  {
   "cell_type": "code",
   "execution_count": 84,
   "id": "4ed4a0e2",
   "metadata": {},
   "outputs": [
    {
     "name": "stdout",
     "output_type": "stream",
     "text": [
      "[9, 5, 1, 2, 3, 6, 5, 4, 7, 8, 'a', 'b', 'c', 'd', 7, 6]\n"
     ]
    }
   ],
   "source": [
    "#Write a Python program to append a list to the second list\n",
    "li1 = [9,5,1,2,3,6,5,4,7,8]\n",
    "li2 = ['a','b','c','d',7,6]\n",
    "\n",
    "created_li = li1 + li2\n",
    "print(created_li)"
   ]
  },
  {
   "cell_type": "markdown",
   "id": "4f372b58",
   "metadata": {},
   "source": [
    "# problem 25"
   ]
  },
  {
   "cell_type": "code",
   "execution_count": 85,
   "id": "088b97de",
   "metadata": {},
   "outputs": [
    {
     "name": "stdout",
     "output_type": "stream",
     "text": [
      "Red\n"
     ]
    }
   ],
   "source": [
    "color_list = ['Red', 'Blue', 'Green', 'White', 'Black']\n",
    "import random\n",
    "\n",
    "print(random.choice(color_list))"
   ]
  },
  {
   "cell_type": "markdown",
   "id": "ea3dd673",
   "metadata": {},
   "source": [
    "# problem 26"
   ]
  },
  {
   "cell_type": "code",
   "execution_count": 86,
   "id": "c354f0bb",
   "metadata": {},
   "outputs": [
    {
     "ename": "NameError",
     "evalue": "name 'Problem' is not defined",
     "output_type": "error",
     "traceback": [
      "\u001b[1;31m---------------------------------------------------------------------------\u001b[0m",
      "\u001b[1;31mNameError\u001b[0m                                 Traceback (most recent call last)",
      "Input \u001b[1;32mIn [86]\u001b[0m, in \u001b[0;36m<cell line: 1>\u001b[1;34m()\u001b[0m\n\u001b[1;32m----> 1\u001b[0m \u001b[43mProblem\u001b[49m\n",
      "\u001b[1;31mNameError\u001b[0m: name 'Problem' is not defined"
     ]
    }
   ],
   "source": [
    "Problem"
   ]
  },
  {
   "cell_type": "markdown",
   "id": "ffb1f56c",
   "metadata": {},
   "source": [
    "# problem 27"
   ]
  },
  {
   "cell_type": "code",
   "execution_count": 87,
   "id": "314140a2",
   "metadata": {},
   "outputs": [
    {
     "name": "stdout",
     "output_type": "stream",
     "text": [
      "Sorted list: [1, 2, 3, 4, 5, 5, 6, 7, 9]\n",
      "Sorted list: 2\n"
     ]
    }
   ],
   "source": [
    "#Python program to find the second smallest number in a list.\n",
    "li = [3, 5, 9, 7, 5, 6, 4, 1, 2]\n",
    "\n",
    "li.sort()\n",
    "print(\"Sorted list:\", li)\n",
    "print(\"Sorted list:\", li[1])\n"
   ]
  },
  {
   "cell_type": "markdown",
   "id": "a74c35ac",
   "metadata": {},
   "source": [
    "# problem 28"
   ]
  },
  {
   "cell_type": "code",
   "execution_count": 88,
   "id": "c9c4f31a",
   "metadata": {},
   "outputs": [
    {
     "name": "stdout",
     "output_type": "stream",
     "text": [
      "Sorted list: [9, 7, 6, 5, 5, 4, 3, 2, 1]\n",
      "Sorted list: 7\n"
     ]
    }
   ],
   "source": [
    "# Python program to find the second largest number in a list\n",
    "li = [3, 5, 9, 7, 5, 6, 4, 1, 2]\n",
    "\n",
    "li.sort(reverse = True)\n",
    "print(\"Sorted list:\", li)\n",
    "print(\"Sorted list:\", li[1])"
   ]
  },
  {
   "cell_type": "markdown",
   "id": "689decda",
   "metadata": {},
   "source": [
    "# problem 29"
   ]
  },
  {
   "cell_type": "code",
   "execution_count": 89,
   "id": "a32e9abe",
   "metadata": {},
   "outputs": [
    {
     "data": {
      "text/plain": [
       "{1, 2, 3, 4, 5, 6, 7, 9}"
      ]
     },
     "execution_count": 89,
     "metadata": {},
     "output_type": "execute_result"
    }
   ],
   "source": [
    "#Write a Python program to get unique values from a list\n",
    "li = [3, 5, 9, 7, 5, 6, 4, 1, 2, 7, 2]\n",
    "new_li = set(li)\n",
    "new_li"
   ]
  },
  {
   "cell_type": "code",
   "execution_count": 90,
   "id": "ecda51c3",
   "metadata": {},
   "outputs": [
    {
     "name": "stdout",
     "output_type": "stream",
     "text": [
      "[3, 5, 9, 7, 6, 4, 1, 2]\n"
     ]
    }
   ],
   "source": [
    "li = [3, 5, 9, 7, 5, 6, 4, 1, 2, 7, 2]\n",
    "uni_li = []\n",
    "\n",
    "for i in li:\n",
    "    if i not in uni_li:\n",
    "        uni_li.append(i)\n",
    "        \n",
    "print(uni_li)"
   ]
  },
  {
   "cell_type": "markdown",
   "id": "6cd4a3e6",
   "metadata": {},
   "source": [
    "# problem 30"
   ]
  },
  {
   "cell_type": "code",
   "execution_count": 91,
   "id": "3af9c177",
   "metadata": {},
   "outputs": [
    {
     "name": "stdout",
     "output_type": "stream",
     "text": [
      "{3: 3, 4: 2, 6: 2, 8: 1, 5: 1, 7: 2, 89: 1, 1: 1}\n"
     ]
    }
   ],
   "source": [
    "#Python program to get the frequency of the elements in a list\n",
    "list1 = [3,4,6,8,3,5,7,89,1,3,4,6,7]\n",
    "\n",
    "dict1 = {}\n",
    "for i in list1:\n",
    "    dict1[i] = list1.count(i)\n",
    "    \n",
    "print(dict1)"
   ]
  },
  {
   "cell_type": "markdown",
   "id": "0133fbf1",
   "metadata": {},
   "source": [
    "# problem 31"
   ]
  },
  {
   "cell_type": "code",
   "execution_count": 92,
   "id": "f867d461",
   "metadata": {},
   "outputs": [
    {
     "name": "stdout",
     "output_type": "stream",
     "text": [
      "individual value of list-------> 2\n",
      "individual value of list-------> 3\n",
      "individual value of list-------> 4\n",
      "individual value of list-------> 5\n",
      "individual value of list-------> 6\n",
      "total number of count---> 5\n"
     ]
    }
   ],
   "source": [
    "list1 = [3,4,6,8,3,5,7,89,1,3,4,6,7]\n",
    "\n",
    "count = 0\n",
    "for i in range (2,7):\n",
    "    print('individual value of list------->',i)\n",
    "    \n",
    "    count += 1\n",
    "print('total number of count--->',count)"
   ]
  },
  {
   "cell_type": "markdown",
   "id": "423f528b",
   "metadata": {},
   "source": [
    "# problem 32"
   ]
  },
  {
   "cell_type": "code",
   "execution_count": 93,
   "id": "fbdd8dd8",
   "metadata": {},
   "outputs": [
    {
     "name": "stdout",
     "output_type": "stream",
     "text": [
      "[[1], [1, 2], [1, 2, 3], [1, 2, 3, 4], [1, 2, 3, 4, 5], [2], [2, 3], [2, 3, 4], [2, 3, 4, 5], [3], [3, 4], [3, 4, 5], [4], [4, 5], [5]]\n"
     ]
    }
   ],
   "source": [
    "lis2 = [1,2,3,4,5]\n",
    "new_lis2 = []\n",
    "for i in range(len(lis2)):\n",
    "    for j in range(i+1,len(lis2)+1):\n",
    "        new_lis2.append(lis2[i:j])\n",
    "print(new_lis2)"
   ]
  },
  {
   "cell_type": "code",
   "execution_count": 94,
   "id": "1b56289d",
   "metadata": {},
   "outputs": [
    {
     "name": "stdout",
     "output_type": "stream",
     "text": [
      "have a subset\n"
     ]
    }
   ],
   "source": [
    "n = [2, 3, 4]\n",
    "if n in new_lis2:\n",
    "    print(\"have a subset\")\n",
    "    \n",
    "else:\n",
    "    ('donot have subset')"
   ]
  },
  {
   "cell_type": "markdown",
   "id": "43c8a61a",
   "metadata": {},
   "source": [
    "# problem 33"
   ]
  },
  {
   "cell_type": "code",
   "execution_count": 95,
   "id": "3e91cea3",
   "metadata": {},
   "outputs": [
    {
     "name": "stdout",
     "output_type": "stream",
     "text": [
      "[1]\n",
      "[1, 2]\n",
      "[1, 2, 3]\n",
      "[1, 2, 3, 4]\n",
      "[1, 2, 3, 4, 5]\n",
      "[2]\n",
      "[2, 3]\n",
      "[2, 3, 4]\n",
      "[2, 3, 4, 5]\n",
      "[3]\n",
      "[3, 4]\n",
      "[3, 4, 5]\n",
      "[4]\n",
      "[4, 5]\n",
      "[5]\n"
     ]
    }
   ],
   "source": [
    "lis = [1,2,3,4,5]\n",
    "for i in range(len(lis)):\n",
    "    #print('start index',i)\n",
    "    for j in range(i+1,len(lis)+1):\n",
    "        #print('end index', j)\n",
    "        print(lis[i:j])\n",
    "        \n",
    "    \n"
   ]
  },
  {
   "cell_type": "code",
   "execution_count": 96,
   "id": "6b9be96c",
   "metadata": {},
   "outputs": [
    {
     "name": "stdout",
     "output_type": "stream",
     "text": [
      "[1]\n",
      "[1, 2]\n",
      "[1, 2, 3]\n",
      "[1, 2, 3, 4]\n",
      "[2]\n",
      "[2, 3]\n",
      "[2, 3, 4]\n",
      "[3]\n",
      "[3, 4]\n",
      "[4]\n"
     ]
    }
   ],
   "source": [
    "lis1 = [1,2,3,4]\n",
    "\n",
    "for i in range(len(lis1)):\n",
    "    for j in range(i+1, len(lis1)+1):\n",
    "        print(lis[i:j])"
   ]
  },
  {
   "cell_type": "markdown",
   "id": "995a8e8e",
   "metadata": {},
   "source": [
    "# problem 34"
   ]
  },
  {
   "cell_type": "code",
   "execution_count": 97,
   "id": "a035a9ef",
   "metadata": {},
   "outputs": [
    {
     "name": "stdout",
     "output_type": "stream",
     "text": [
      "2 3 5 7 11 13 17 19 23 29 31 37 41 43 47 53 59 61 67 71 73 79 83 89 97 "
     ]
    }
   ],
   "source": [
    "def prime(n):\n",
    "    \n",
    "    prime_li =[]\n",
    "    for i in range(2, n+1):\n",
    "        if i not in prime_li:\n",
    "            print(i, end= ' ')\n",
    "            for j in range(i*i, n+1, i): \n",
    "                prime_li.append(j)\n",
    "prime(100)     "
   ]
  },
  {
   "cell_type": "markdown",
   "id": "ec810dc9",
   "metadata": {},
   "source": [
    "# problem 35"
   ]
  },
  {
   "cell_type": "code",
   "execution_count": 98,
   "id": "8ff8538f",
   "metadata": {},
   "outputs": [
    {
     "name": "stdout",
     "output_type": "stream",
     "text": [
      "1 2 3 4 5 ['p1', 'q1', 'p2', 'q2', 'p3', 'q3', 'p4', 'q4', 'p5', 'q5']\n"
     ]
    }
   ],
   "source": [
    "lis = ['p','q']\n",
    "n = 5\n",
    "lis2 = []\n",
    "for i in range(1, 6):\n",
    "    print(i, end = ' ')\n",
    "    for j in lis:\n",
    "        s = j + str(i)\n",
    "        lis2.append(s)\n",
    "print(lis2)        "
   ]
  },
  {
   "cell_type": "code",
   "execution_count": 99,
   "id": "865dd805",
   "metadata": {},
   "outputs": [
    {
     "name": "stdout",
     "output_type": "stream",
     "text": [
      "1 2 3 ['p1', 'q1', 'r1', 'p2', 'q2', 'r2', 'p3', 'q3', 'r3']\n"
     ]
    }
   ],
   "source": [
    "lis = ['p','q','r']\n",
    "n = 3\n",
    "\n",
    "lis_4 = []\n",
    "for i in range(1,4):\n",
    "    print(i, end = ' ')\n",
    "    for j in lis:\n",
    "        \n",
    "        update = j + str(i)\n",
    "        lis_4.append(update)\n",
    "print(lis_4)        "
   ]
  },
  {
   "cell_type": "markdown",
   "id": "8d257c85",
   "metadata": {},
   "source": [
    "# problem 36"
   ]
  },
  {
   "cell_type": "code",
   "execution_count": 100,
   "id": "50ee29b7",
   "metadata": {},
   "outputs": [
    {
     "name": "stdout",
     "output_type": "stream",
     "text": [
      "1c4191e55d0\n"
     ]
    }
   ],
   "source": [
    " x= 100\n",
    "print(format(id(x), 'x'))"
   ]
  },
  {
   "cell_type": "markdown",
   "id": "12546584",
   "metadata": {},
   "source": [
    "# problem 37"
   ]
  },
  {
   "cell_type": "code",
   "execution_count": 101,
   "id": "acc930ab",
   "metadata": {},
   "outputs": [
    {
     "name": "stdout",
     "output_type": "stream",
     "text": [
      "{9, 2, 5}\n"
     ]
    }
   ],
   "source": [
    "li1 = [1,2,9,5,4,8]\n",
    "li2 = [2,5,7,6,3,9]\n",
    "\n",
    "print(set(li1) & set (li2))"
   ]
  },
  {
   "cell_type": "code",
   "execution_count": 102,
   "id": "edd9e599",
   "metadata": {},
   "outputs": [
    {
     "name": "stdout",
     "output_type": "stream",
     "text": [
      "[2, 9, 5]\n"
     ]
    }
   ],
   "source": [
    "new = []\n",
    "for i in li1:\n",
    "    if i in li2:\n",
    "        new.append(i)\n",
    "print(new)\n",
    "        "
   ]
  },
  {
   "cell_type": "markdown",
   "id": "df7f3018",
   "metadata": {},
   "source": [
    "\n",
    "# problem 38"
   ]
  },
  {
   "cell_type": "code",
   "execution_count": 103,
   "id": "f6a69474",
   "metadata": {},
   "outputs": [
    {
     "name": "stdout",
     "output_type": "stream",
     "text": [
      "[1, 0, 3, 2, 5, 4, 7, 6, 9, 8]\n"
     ]
    }
   ],
   "source": [
    "lis = [0,1,2,3,4,5,6,7,8,9]\n",
    "\n",
    "for i in range(0, len(lis)-1,2):\n",
    "    temp = lis[i] \n",
    "    lis[i] = lis[i+1]\n",
    "    lis[i+1] = temp\n",
    "print(lis)"
   ]
  },
  {
   "cell_type": "markdown",
   "id": "8d9ba3e9",
   "metadata": {},
   "source": [
    "# problem 39\n"
   ]
  },
  {
   "cell_type": "code",
   "execution_count": 104,
   "id": "82b67b6a",
   "metadata": {},
   "outputs": [],
   "source": [
    "li = [11,33,50]\n"
   ]
  },
  {
   "cell_type": "code",
   "execution_count": 105,
   "id": "299b6857",
   "metadata": {},
   "outputs": [
    {
     "name": "stdout",
     "output_type": "stream",
     "text": [
      "113350\n"
     ]
    }
   ],
   "source": [
    "x = int(\"\".join(map(str,li)))\n",
    "print(x)"
   ]
  },
  {
   "cell_type": "markdown",
   "id": "df090851",
   "metadata": {},
   "source": [
    "# problem 40"
   ]
  },
  {
   "cell_type": "code",
   "execution_count": 106,
   "id": "82b945dd",
   "metadata": {},
   "outputs": [],
   "source": [
    "word_list = ['be','have','do','say','get','make','go','know','take','see','come','think',\n",
    "     'look','want','give','use','find','tell','ask','work','seem','feel','leave','call']"
   ]
  },
  {
   "cell_type": "code",
   "execution_count": 107,
   "id": "31b8834a",
   "metadata": {},
   "outputs": [
    {
     "data": {
      "text/plain": [
       "{'a': ['ask'],\n",
       " 'b': ['be'],\n",
       " 'c': ['call', 'come'],\n",
       " 'd': ['do'],\n",
       " 'f': ['feel', 'find'],\n",
       " 'g': ['get', 'give', 'go'],\n",
       " 'h': ['have'],\n",
       " 'k': ['know'],\n",
       " 'l': ['leave', 'look'],\n",
       " 'm': ['make'],\n",
       " 's': ['say', 'see', 'seem'],\n",
       " 't': ['take', 'tell', 'think'],\n",
       " 'u': ['use'],\n",
       " 'w': ['want', 'work']}"
      ]
     },
     "execution_count": 107,
     "metadata": {},
     "output_type": "execute_result"
    }
   ],
   "source": [
    "dict1 = {}\n",
    "word_list = list(sorted(word_list))\n",
    "\n",
    "for i in word_list:\n",
    "    if i[0] in dict1:\n",
    "        dict1[i[0]].append(i)\n",
    "    else:\n",
    "        dict1[i[0]] = []\n",
    "        dict1[i[0]].append(i)\n",
    "dict1     "
   ]
  },
  {
   "cell_type": "markdown",
   "id": "c93adf25",
   "metadata": {},
   "source": [
    "# problem 41 "
   ]
  },
  {
   "cell_type": "code",
   "execution_count": 108,
   "id": "51bb3dde",
   "metadata": {},
   "outputs": [
    {
     "name": "stdout",
     "output_type": "stream",
     "text": [
      "{'1': [], '2': [], '3': [], '4': [], '5': [], '6': [], '7': [], '8': [], '9': [], '10': [], '11': [], '12': [], '13': [], '14': []}\n"
     ]
    }
   ],
   "source": [
    "# a Python program to create multiple lists.\n",
    "dic = {}\n",
    "for i in  range(1,15):\n",
    "    dic[str(i)] = []\n",
    "    \n",
    "print(dic)"
   ]
  },
  {
   "cell_type": "markdown",
   "id": "36abdc66",
   "metadata": {},
   "source": [
    "# problem 42 "
   ]
  },
  {
   "cell_type": "code",
   "execution_count": 109,
   "id": "36c94b1f",
   "metadata": {},
   "outputs": [],
   "source": [
    "list1 = ['a', 'b', 'c', 'd', 'e', 'f']\n",
    "list2 = ['d', 'e', 'f', 'g', 'h']\n",
    "\n",
    "new_li = set(list1).difference(list2)"
   ]
  },
  {
   "cell_type": "code",
   "execution_count": 110,
   "id": "0c3b8b02",
   "metadata": {},
   "outputs": [
    {
     "name": "stdout",
     "output_type": "stream",
     "text": [
      "Missing values in the second list:  b,a,c\n"
     ]
    }
   ],
   "source": [
    "print('Missing values in the second list: ', ','.join(new_li))"
   ]
  },
  {
   "cell_type": "code",
   "execution_count": 111,
   "id": "3bac62db",
   "metadata": {},
   "outputs": [
    {
     "name": "stdout",
     "output_type": "stream",
     "text": [
      "{'g', 'h'}\n"
     ]
    }
   ],
   "source": [
    "new_li1 = set(list2).difference(list1)\n",
    "\n",
    "print(new_li1)"
   ]
  },
  {
   "cell_type": "code",
   "execution_count": 112,
   "id": "e61871da",
   "metadata": {},
   "outputs": [
    {
     "name": "stdout",
     "output_type": "stream",
     "text": [
      "the additional value  g,h\n"
     ]
    }
   ],
   "source": [
    "print(\"the additional value \", ','.join(new_li1))"
   ]
  },
  {
   "cell_type": "markdown",
   "id": "4a0093f2",
   "metadata": {},
   "source": [
    "# problem 43"
   ]
  },
  {
   "cell_type": "code",
   "execution_count": 113,
   "id": "f6f40649",
   "metadata": {},
   "outputs": [
    {
     "name": "stdout",
     "output_type": "stream",
     "text": [
      "The 1st value is ----> ('Black', '#000000', 'rgb(0, 0, 0)')\n",
      "The 1st value is ----> ('Red', '#FF0000', 'rgb(255, 0, 0)')\n",
      "The 1st value is ----> ('Yellow', '#FFFF00', 'rgb(255, 255, 0)')\n"
     ]
    }
   ],
   "source": [
    "#a Python program to split a list into different variables.\n",
    "color = [\n",
    "    (\"Black\", \"#000000\", \"rgb(0, 0, 0)\"),\n",
    "    (\"Red\", \"#FF0000\", \"rgb(255, 0, 0)\"),\n",
    "    (\"Yellow\", \"#FFFF00\", \"rgb(255, 255, 0)\")\n",
    "]\n",
    "\n",
    "val1, val2, val3 = color\n",
    "print('The 1st value is ---->', val1)\n",
    "print('The 1st value is ---->', val2)\n",
    "print('The 1st value is ---->', val3)"
   ]
  },
  {
   "cell_type": "markdown",
   "id": "66dbddab",
   "metadata": {},
   "source": [
    "# problem 44"
   ]
  },
  {
   "cell_type": "code",
   "execution_count": 114,
   "id": "ba3ba4af",
   "metadata": {},
   "outputs": [
    {
     "name": "stdout",
     "output_type": "stream",
     "text": [
      "[1, 2, 3, 4, 5, 6, 7, 8, 9, 10, 11, 12, 13, 14, 15, 16, 17, 18, 19, 20, 21, 22, 23, 24, 25, 26, 27, 28, 29, 30, 31, 32, 33, 34, 35, 36, 37, 38, 39, 40]"
     ]
    }
   ],
   "source": [
    "list1 = list(range(1,41))\n",
    "print(list1, end= '')"
   ]
  },
  {
   "cell_type": "code",
   "execution_count": 115,
   "id": "ad9f93d9",
   "metadata": {},
   "outputs": [
    {
     "name": "stdout",
     "output_type": "stream",
     "text": [
      "[1, 2, 3, 4, 5]\n",
      "[6, 7, 8, 9, 10]\n",
      "[11, 12, 13, 14, 15]\n",
      "[16, 17, 18, 19, 20]\n",
      "[21, 22, 23, 24, 25]\n",
      "[26, 27, 28, 29, 30]\n",
      "[31, 32, 33, 34, 35]\n",
      "[36, 37, 38, 39, 40]\n"
     ]
    }
   ],
   "source": [
    "for i in range(0,len(list1),5):\n",
    "    print(list1[i: i + 5])"
   ]
  },
  {
   "cell_type": "markdown",
   "id": "3729d8fc",
   "metadata": {},
   "source": [
    "# problem 45"
   ]
  },
  {
   "cell_type": "code",
   "execution_count": 116,
   "id": "9df44d53",
   "metadata": {},
   "outputs": [
    {
     "name": "stdout",
     "output_type": "stream",
     "text": [
      "[1, 2, 3, 4, 5, 6, 7, 8, 9, 10]\n"
     ]
    }
   ],
   "source": [
    "#a Python program to convert a pair of values into a sorted unique array\n",
    "L = [(1, 2), (3, 4), (1, 2), (5, 6), (7, 8), (1, 2), (3, 4), (3, 4), (7, 8), (9, 10)]\n",
    "\n",
    "#print(\"Sorted Unique Data:\", sorted(set().union(*L)))\n",
    "print(sorted(set().union(*L)))"
   ]
  },
  {
   "cell_type": "markdown",
   "id": "8ff987d0",
   "metadata": {},
   "source": [
    "# problem 46"
   ]
  },
  {
   "cell_type": "code",
   "execution_count": 117,
   "id": "d4e986d9",
   "metadata": {},
   "outputs": [
    {
     "name": "stdout",
     "output_type": "stream",
     "text": [
      "[1, 3, 5, 7, 9]\n"
     ]
    }
   ],
   "source": [
    "#a Python program to select the odd items of a list\n",
    "new_x = []\n",
    "x = [1, 2, 3, 4, 5, 6, 7, 8, 9]\n",
    "for i in x:\n",
    "    if i % 2 == 0:\n",
    "        continue\n",
    "    else:\n",
    "        new_x.append(i)\n",
    "print(new_x)"
   ]
  },
  {
   "cell_type": "code",
   "execution_count": 118,
   "id": "097b1550",
   "metadata": {},
   "outputs": [
    {
     "name": "stdout",
     "output_type": "stream",
     "text": [
      "[1, 3, 5, 7, 9]\n"
     ]
    }
   ],
   "source": [
    "#alternative way\n",
    "li  = [1, 2, 3, 4, 5, 6, 7, 8, 9]\n",
    "print(li[:: 2])"
   ]
  },
  {
   "cell_type": "markdown",
   "id": "6b35583e",
   "metadata": {},
   "source": [
    "# problem 47"
   ]
  },
  {
   "cell_type": "code",
   "execution_count": 119,
   "id": "4aa8a46d",
   "metadata": {},
   "outputs": [
    {
     "data": {
      "text/plain": [
       "['c', 'a', 'c', 'b', 'c', 'c', 'c', 'd', 'c', 'e']"
      ]
     },
     "execution_count": 119,
     "metadata": {},
     "output_type": "execute_result"
    }
   ],
   "source": [
    "li = ['a','b','c','d','e']\n",
    "n= \"c\"\n",
    "new_li = []\n",
    "for i in range(0, len(li)):\n",
    "    new_li.append(n)   # new_li.append(i+1)\n",
    "    new_li.append(li[i])\n",
    "    \n",
    "new_li"
   ]
  },
  {
   "cell_type": "markdown",
   "id": "963504ab",
   "metadata": {},
   "source": [
    "# problem 48"
   ]
  },
  {
   "cell_type": "code",
   "execution_count": 120,
   "id": "26952040",
   "metadata": {},
   "outputs": [
    {
     "name": "stdout",
     "output_type": "stream",
     "text": [
      "Red\n",
      "Green\n",
      "Black\n"
     ]
    }
   ],
   "source": [
    "#a Python program to print a nested lists (each list on a new line) using the print() function\n",
    "colors = [['Red'], ['Green'], ['Black']]\n",
    "for i in colors:\n",
    "    print(i[0])"
   ]
  },
  {
   "cell_type": "markdown",
   "id": "e955b183",
   "metadata": {},
   "source": [
    "# problem 49"
   ]
  },
  {
   "cell_type": "code",
   "execution_count": 121,
   "id": "b04e6ccc",
   "metadata": {},
   "outputs": [
    {
     "name": "stdout",
     "output_type": "stream",
     "text": [
      "[{'Black', '#000000'}, {'Red', '#FF0000'}, {'Maroon', '#800000'}, {'Yellow', '#FFFF00'}]\n"
     ]
    }
   ],
   "source": [
    "color_name = [\"Black\", \"Red\", \"Maroon\", \"Yellow\"]\n",
    "color_code = [\"#000000\", \"#FF0000\",\"#800000\", \"#FFFF00\"]\n",
    "\n",
    "new_lis= []\n",
    "\n",
    "for i in range(len(color_name)):\n",
    "    new_lis.append({color_name[i],color_code[i]})\n",
    "print(new_lis)    "
   ]
  },
  {
   "cell_type": "markdown",
   "id": "9fd50efa",
   "metadata": {},
   "source": [
    "# problem 50"
   ]
  },
  {
   "cell_type": "code",
   "execution_count": 122,
   "id": "8d4559ea",
   "metadata": {},
   "outputs": [
    {
     "name": "stdout",
     "output_type": "stream",
     "text": [
      "[1, 5, 10]\n",
      "[{'key': {'subkey': 1}}, {'key': {'subkey': 5}}, {'key': {'subkey': 10}}]\n"
     ]
    }
   ],
   "source": [
    "#a Python program to sort a list of nested dictionaries\n",
    "my_list = [{'key': {'subkey': 1}}, {'key': {'subkey': 10}}, {'key': {'subkey': 5}}]\n",
    "new_li = []\n",
    "for i in my_list:\n",
    "    new_li.append(i['key']['subkey'])\n",
    "\n",
    "new_li = sorted(new_li, reverse = False) \n",
    "print(new_li)    \n",
    "\n",
    "final_list = []\n",
    "for i in new_li:\n",
    "    for j in my_list:\n",
    "        if j['key']['subkey'] == i:\n",
    "            final_list.append(j)\n",
    "print(final_list)\n"
   ]
  },
  {
   "cell_type": "markdown",
   "id": "644f1415",
   "metadata": {},
   "source": [
    "# problem 51"
   ]
  },
  {
   "cell_type": "code",
   "execution_count": 123,
   "id": "629a6513",
   "metadata": {},
   "outputs": [
    {
     "name": "stdout",
     "output_type": "stream",
     "text": [
      "[['a', 'b', 'd', 'j', 'u'], ['d', 'f', 'k', 'o', 'r'], ['m', 'n', 'd', 'n', 'a'], ['m,z', 'x', 's', 'd', 'q']]\n"
     ]
    }
   ],
   "source": [
    "l = ['a','b','d','j','u','d','f','k','o','r','m','n','d','n','a','m'',z','x','s','d',\"q\"]\n",
    "n = 5\n",
    "new_li = [l[i:i+n]for i in range(0,len(l),n)]\n",
    "print(new_li)"
   ]
  },
  {
   "cell_type": "code",
   "execution_count": 124,
   "id": "699793df",
   "metadata": {},
   "outputs": [
    {
     "name": "stdout",
     "output_type": "stream",
     "text": [
      "[['a', 'b', 'd', 'j', 'u'], ['d', 'f', 'k', 'o', 'r'], ['m', 'n', 'd', 'n', 'a'], ['m,z', 'x', 's', 'd', 'q']]\n"
     ]
    }
   ],
   "source": [
    "print(new_li)"
   ]
  },
  {
   "cell_type": "markdown",
   "id": "c17fd2c4",
   "metadata": {},
   "source": [
    "# problem 52"
   ]
  },
  {
   "cell_type": "code",
   "execution_count": 125,
   "id": "47b1c05b",
   "metadata": {},
   "outputs": [],
   "source": [
    "li = [\"red\", \"orange\", \"green\", \"blue\", \"white\"]\n",
    "li1 = [\"black\", \"yellow\", \"green\",\"blue\"]\n",
    "\n",
    "new_difference = set(li).difference(set(li1))"
   ]
  },
  {
   "cell_type": "code",
   "execution_count": 126,
   "id": "78cb9299",
   "metadata": {},
   "outputs": [
    {
     "name": "stdout",
     "output_type": "stream",
     "text": [
      "{'white', 'red', 'orange'}\n"
     ]
    }
   ],
   "source": [
    "print(new_difference) "
   ]
  },
  {
   "cell_type": "code",
   "execution_count": 127,
   "id": "02c80fd7",
   "metadata": {},
   "outputs": [
    {
     "name": "stdout",
     "output_type": "stream",
     "text": [
      "{'yellow', 'black'}\n"
     ]
    }
   ],
   "source": [
    "new_difference1 =set(li1).difference(set(li))\n",
    "print(new_difference1) "
   ]
  },
  {
   "cell_type": "markdown",
   "id": "446d63c1",
   "metadata": {},
   "source": [
    "# problem 53\n"
   ]
  },
  {
   "cell_type": "code",
   "execution_count": 128,
   "id": "a681560c",
   "metadata": {},
   "outputs": [
    {
     "name": "stdout",
     "output_type": "stream",
     "text": [
      "0\n",
      "1\n",
      "2\n",
      "3\n",
      "4\n",
      "5\n",
      "6\n",
      "7\n",
      "8\n",
      "9\n",
      "[1, 2, 3, 4, 5, 6, 7, 8, 9]\n"
     ]
    }
   ],
   "source": [
    "lis = []\n",
    "counter = 0\n",
    "while True:\n",
    "    print(counter)\n",
    "    counter += 1\n",
    "    if  counter == 10:\n",
    "        break \n",
    "    lis.append(counter)\n",
    "print(lis)"
   ]
  },
  {
   "cell_type": "markdown",
   "id": "98f2bd69",
   "metadata": {},
   "source": [
    "# problem 54"
   ]
  },
  {
   "cell_type": "code",
   "execution_count": 129,
   "id": "5705f91d",
   "metadata": {},
   "outputs": [
    {
     "name": "stdout",
     "output_type": "stream",
     "text": [
      " the value is-----> red, orange, green, blue, white\n"
     ]
    }
   ],
   "source": [
    "#concatation\n",
    "li = [\"red\", \"orange\", \"green\", \"blue\", \"white\"]\n",
    "\n",
    "print(\" the value is----->\", ', '.join(li))"
   ]
  },
  {
   "cell_type": "markdown",
   "id": "42d96526",
   "metadata": {},
   "source": [
    "# Problem 55"
   ]
  },
  {
   "cell_type": "code",
   "execution_count": 130,
   "id": "34e60e41",
   "metadata": {},
   "outputs": [
    {
     "name": "stdout",
     "output_type": "stream",
     "text": [
      "[{'key2': 'value2'}, {'key2': 'value4'}]\n"
     ]
    }
   ],
   "source": [
    "#a Python program to remove key-value pairs from a list of dictionaries.\n",
    "original_list = [{'key1': 'value1', 'key2': 'value2'}, {'key1': 'value3', 'key2': 'value4'}]\n",
    "\n",
    "for i in original_list:\n",
    "    if 'key1' in i:\n",
    "        del i['key1']\n",
    "        \n",
    "print(original_list)\n"
   ]
  },
  {
   "cell_type": "code",
   "execution_count": 131,
   "id": "40f13c00",
   "metadata": {},
   "outputs": [
    {
     "name": "stdout",
     "output_type": "stream",
     "text": [
      "[{'key2': 'value2'}, {'key2': 'value4'}]\n"
     ]
    }
   ],
   "source": [
    "print(original_list)"
   ]
  },
  {
   "cell_type": "markdown",
   "id": "341bc456",
   "metadata": {},
   "source": [
    "# problem 56"
   ]
  },
  {
   "cell_type": "code",
   "execution_count": 132,
   "id": "b83d3d49",
   "metadata": {},
   "outputs": [
    {
     "name": "stdout",
     "output_type": "stream",
     "text": [
      "<class 'str'>\n",
      "['H', 'e', 'l', 'l', 'o', ' ', 't', 'h', 'i', 's', ' ', 'i', 's', ' ', 's', 'a', 'j', 'i', 'b', ' ', 's', 'a', 'h', 'a']\n",
      "<class 'list'>\n"
     ]
    }
   ],
   "source": [
    "#a Python program to convert a string to a list.\n",
    "new_string = \"Hello this is sajib saha\"\n",
    "print(type(new_string))\n",
    "new_lis = list(new_string)\n",
    "print(new_lis)\n",
    "print(type(new_lis))"
   ]
  },
  {
   "cell_type": "markdown",
   "id": "30798136",
   "metadata": {},
   "source": [
    "# PROBLEM 57"
   ]
  },
  {
   "cell_type": "code",
   "execution_count": 133,
   "id": "1c880b5f",
   "metadata": {},
   "outputs": [
    {
     "name": "stdout",
     "output_type": "stream",
     "text": [
      "the value is not in the list\n"
     ]
    }
   ],
   "source": [
    "color1 = [\"green\", \"orange\", \"black\", \"white\"]\n",
    "color2 = [\"green\", \"green\", \"green\", \"green\"]\n",
    "\n",
    "found = False\n",
    "\n",
    "val = \"blue\"\n",
    "#value = 'green'\n",
    "for item in color1:\n",
    "    if val == item:\n",
    "        found = True\n",
    "        break\n",
    "if found:\n",
    "    print('the value is in the list')\n",
    "else:\n",
    "    print('the value is not in the list')"
   ]
  },
  {
   "cell_type": "markdown",
   "id": "6d7d9c12",
   "metadata": {},
   "source": [
    "# problem 58"
   ]
  },
  {
   "cell_type": "code",
   "execution_count": 134,
   "id": "ccecd51e",
   "metadata": {},
   "outputs": [
    {
     "name": "stdout",
     "output_type": "stream",
     "text": [
      "[1, 3, 5, 7, 9, 2, 4, 6, 8]\n"
     ]
    }
   ],
   "source": [
    "#a Python program to replace the last element in a list with another list\n",
    "num1 = [1, 3, 5, 7, 9, 10]\n",
    "num2 = [2, 4, 6, 8]\n",
    "\n",
    "num1 [-1:] = num2\n",
    "print(num1)"
   ]
  },
  {
   "cell_type": "markdown",
   "id": "61b76c90",
   "metadata": {},
   "source": [
    "# problem 59"
   ]
  },
  {
   "cell_type": "code",
   "execution_count": 135,
   "id": "90150a59",
   "metadata": {},
   "outputs": [
    {
     "name": "stdout",
     "output_type": "stream",
     "text": [
      "10\n"
     ]
    }
   ],
   "source": [
    "#a Python program to check whether the n-th element exists in a given list\n",
    "num1 = [1, 3, 5, 7, 9, 10]\n",
    "new_num = len(num1) - 1\n",
    "print(num1[new_num])"
   ]
  },
  {
   "cell_type": "markdown",
   "id": "0bc71bb5",
   "metadata": {},
   "source": [
    "# problem 60"
   ]
  },
  {
   "cell_type": "code",
   "execution_count": 136,
   "id": "c04e2fa4",
   "metadata": {},
   "outputs": [
    {
     "name": "stdout",
     "output_type": "stream",
     "text": [
      "[(2, 1), (1, 2), (2, 3), (4, 4), (2, 5)]\n"
     ]
    }
   ],
   "source": [
    "# sample list = [(2,1),(1,2),(2,3),(4,4),(2,5)]\n",
    "lis = [(2,5),(1,2),(4,4),(2,3),(2,1)]\n",
    "new_lis = []\n",
    "for i in lis:\n",
    "    new_lis.append(i[1])\n",
    "new_lis = sorted(new_lis)\n",
    "\n",
    "final_li =[]\n",
    "for i in new_lis:\n",
    "    for touple1 in lis:\n",
    "        if touple1[1] ==i:\n",
    "            final_li.append(touple1)   \n",
    "print(final_li)"
   ]
  },
  {
   "cell_type": "code",
   "execution_count": 137,
   "id": "e8fff58a",
   "metadata": {},
   "outputs": [
    {
     "name": "stdout",
     "output_type": "stream",
     "text": [
      "1\n"
     ]
    }
   ],
   "source": [
    "#a Python program to find a tuple, the smallest second index value from a list of tuples.\n",
    "x = [(4, 1), (1, 2), (6, 0)]\n",
    "new_x = []\n",
    "\n",
    "for i in x:\n",
    "    new_x.append(i[1])\n",
    "new_x = sorted(new_x)\n",
    "print(new_x[1])   \n",
    "    "
   ]
  },
  {
   "cell_type": "markdown",
   "id": "03621086",
   "metadata": {},
   "source": [
    "# problem 61\n"
   ]
  },
  {
   "cell_type": "code",
   "execution_count": 138,
   "id": "2658fcbe",
   "metadata": {},
   "outputs": [
    {
     "name": "stdout",
     "output_type": "stream",
     "text": [
      "[{}, {}, {}, {}, {}]\n"
     ]
    }
   ],
   "source": [
    "n = 5\n",
    "lis = []\n",
    "for i in range(n):\n",
    "    lis.append({})\n",
    "print(lis)"
   ]
  },
  {
   "cell_type": "markdown",
   "id": "fac42377",
   "metadata": {},
   "source": [
    "# problem 62"
   ]
  },
  {
   "cell_type": "code",
   "execution_count": 139,
   "id": "8d25a6ab",
   "metadata": {},
   "outputs": [
    {
     "name": "stdout",
     "output_type": "stream",
     "text": [
      "1 2 3 4 5\n"
     ]
    }
   ],
   "source": [
    "num = [1, 2, 3, 4, 5]\n",
    "print(*num)"
   ]
  },
  {
   "cell_type": "markdown",
   "id": "8e647b23",
   "metadata": {},
   "source": [
    "# problem 63"
   ]
  },
  {
   "cell_type": "code",
   "execution_count": 140,
   "id": "edd19fb6",
   "metadata": {},
   "outputs": [
    {
     "name": "stdout",
     "output_type": "stream",
     "text": [
      "['emp1', 'emp2', 'emp3', 'emp4']\n"
     ]
    }
   ],
   "source": [
    "li = [1, 2, 3, 4]\n",
    "n = 'emp'\n",
    "lis = []\n",
    "\n",
    "for i in li:\n",
    "    new_li = n + str(i)\n",
    "    lis.append(new_li)\n",
    "print(lis)\n"
   ]
  },
  {
   "cell_type": "markdown",
   "id": "56dd9d2e",
   "metadata": {},
   "source": [
    "# problem 64"
   ]
  },
  {
   "cell_type": "code",
   "execution_count": 144,
   "id": "d24ebdfe",
   "metadata": {},
   "outputs": [
    {
     "name": "stdout",
     "output_type": "stream",
     "text": [
      "1red\n",
      "2white\n",
      "3black\n"
     ]
    }
   ],
   "source": [
    "num = [1, 2, 3]\n",
    "color = ['red', 'white', 'black']\n",
    "li = []\n",
    "for i in range(0,len(num)):\n",
    "    print(str(num[i]) + color[i])"
   ]
  },
  {
   "cell_type": "markdown",
   "id": "47f53afa",
   "metadata": {},
   "source": [
    "# problem 65"
   ]
  },
  {
   "cell_type": "code",
   "execution_count": 145,
   "id": "dbb52b56",
   "metadata": {},
   "outputs": [
    {
     "name": "stdout",
     "output_type": "stream",
     "text": [
      "[10, 9, 9, 7, 7, 7, 6, 6, 6, 5, 4, 4, 4, 3, 3, 2, 2, 1, 0, 0, 0, 0, 0, 0, 0, 0, 0]\n"
     ]
    }
   ],
   "source": [
    "# a Python program to move all zero digits to end of a given list of numbers.\n",
    "li  = [3, 4, 0, 0, 0, 6, 2, 0, 6, 7, 6, 0, 0, 0, 9, 10, 7, 4, 4, 5, 3, 0, 0, 2, 9, 7, 1]\n",
    "new_li = sorted(li, reverse = True)\n",
    "print(new_li)"
   ]
  },
  {
   "cell_type": "markdown",
   "id": "0f7492f5",
   "metadata": {},
   "source": [
    "# problem 66"
   ]
  },
  {
   "cell_type": "code",
   "execution_count": 146,
   "id": "4ace00c6",
   "metadata": {},
   "outputs": [
    {
     "ename": "TypeError",
     "evalue": "'int' object is not callable",
     "output_type": "error",
     "traceback": [
      "\u001b[1;31m---------------------------------------------------------------------------\u001b[0m",
      "\u001b[1;31mTypeError\u001b[0m                                 Traceback (most recent call last)",
      "Input \u001b[1;32mIn [146]\u001b[0m, in \u001b[0;36m<cell line: 5>\u001b[1;34m()\u001b[0m\n\u001b[0;32m      3\u001b[0m max_sum_list \u001b[38;5;241m=\u001b[39m []\n\u001b[0;32m      5\u001b[0m \u001b[38;5;28;01mfor\u001b[39;00m sublist \u001b[38;5;129;01min\u001b[39;00m li:\n\u001b[1;32m----> 6\u001b[0m     new_sum \u001b[38;5;241m=\u001b[39m \u001b[38;5;28;43msum\u001b[39;49m\u001b[43m(\u001b[49m\u001b[38;5;28;43mstr\u001b[39;49m\u001b[43m(\u001b[49m\u001b[43msublist\u001b[49m\u001b[43m)\u001b[49m\u001b[43m)\u001b[49m  \u001b[38;5;66;03m# Sum all elements of the sublist\u001b[39;00m\n\u001b[0;32m      7\u001b[0m     \u001b[38;5;28;01mif\u001b[39;00m new_sum \u001b[38;5;241m>\u001b[39m sum_:\n\u001b[0;32m      8\u001b[0m         sum_ \u001b[38;5;241m=\u001b[39m new_sum\n",
      "\u001b[1;31mTypeError\u001b[0m: 'int' object is not callable"
     ]
    }
   ],
   "source": [
    "# run in colab but not here \n",
    "li = [[1, 2, 3], [4, 5, 6], [10, 11, 12], [7, 8, 9]] \n",
    "sum_ = 0\n",
    "max_sum_list = []\n",
    "\n",
    "for sublist in li:\n",
    "    new_sum = sum(str(sublist))  # Sum all elements of the sublist\n",
    "    if new_sum > sum_:\n",
    "        sum_ = new_sum\n",
    "        max_sum_list = sublist\n",
    "\n",
    "print(\"List with the highest sum:\", max_sum_list)\n",
    "print(\"Sum of elements in the highest sum list:\", sum_)\n",
    "\n",
    "    "
   ]
  },
  {
   "cell_type": "code",
   "execution_count": 147,
   "id": "1af79208",
   "metadata": {},
   "outputs": [
    {
     "ename": "TypeError",
     "evalue": "'int' object is not callable",
     "output_type": "error",
     "traceback": [
      "\u001b[1;31m---------------------------------------------------------------------------\u001b[0m",
      "\u001b[1;31mTypeError\u001b[0m                                 Traceback (most recent call last)",
      "Input \u001b[1;32mIn [147]\u001b[0m, in \u001b[0;36m<cell line: 2>\u001b[1;34m()\u001b[0m\n\u001b[0;32m      1\u001b[0m li \u001b[38;5;241m=\u001b[39m [[\u001b[38;5;241m1\u001b[39m,\u001b[38;5;241m2\u001b[39m,\u001b[38;5;241m3\u001b[39m], [\u001b[38;5;241m4\u001b[39m,\u001b[38;5;241m5\u001b[39m,\u001b[38;5;241m6\u001b[39m], [\u001b[38;5;241m10\u001b[39m,\u001b[38;5;241m11\u001b[39m,\u001b[38;5;241m12\u001b[39m], [\u001b[38;5;241m7\u001b[39m,\u001b[38;5;241m8\u001b[39m,\u001b[38;5;241m9\u001b[39m]]\n\u001b[1;32m----> 2\u001b[0m \u001b[38;5;28mprint\u001b[39m(\u001b[38;5;28;43mmax\u001b[39;49m\u001b[43m(\u001b[49m\u001b[43mli\u001b[49m\u001b[43m,\u001b[49m\u001b[43m \u001b[49m\u001b[43mkey\u001b[49m\u001b[38;5;241;43m=\u001b[39;49m\u001b[38;5;28;43msum\u001b[39;49m\u001b[43m)\u001b[49m)\n",
      "\u001b[1;31mTypeError\u001b[0m: 'int' object is not callable"
     ]
    }
   ],
   "source": [
    "\n",
    "li = [[1,2,3], [4,5,6], [10,11,12], [7,8,9]]\n",
    "print(max(li, key=sum))\n",
    "\n"
   ]
  },
  {
   "cell_type": "markdown",
   "id": "aee16c6e",
   "metadata": {},
   "source": [
    "# problem 68"
   ]
  },
  {
   "cell_type": "code",
   "execution_count": 148,
   "id": "58e8a1e5",
   "metadata": {},
   "outputs": [],
   "source": [
    "#a Python program to extend a list without append.\n",
    "x = [10, 20, 30]\n",
    "y = [40, 50, 60]\n",
    "\n",
    "x[:0]= y"
   ]
  },
  {
   "cell_type": "code",
   "execution_count": 149,
   "id": "0dd7a950",
   "metadata": {},
   "outputs": [
    {
     "name": "stdout",
     "output_type": "stream",
     "text": [
      "[40, 50, 60, 10, 20, 30]\n"
     ]
    }
   ],
   "source": [
    "print(x)"
   ]
  },
  {
   "cell_type": "code",
   "execution_count": 151,
   "id": "26a039f9",
   "metadata": {},
   "outputs": [
    {
     "name": "stdout",
     "output_type": "stream",
     "text": [
      "[10, 20, 30, 40, 50, 60]\n"
     ]
    }
   ],
   "source": [
    "x = [10, 20, 30]\n",
    "y = [40, 50, 60]\n",
    "new = x + y\n",
    "print(new)\n"
   ]
  },
  {
   "cell_type": "markdown",
   "id": "c3ad7f39",
   "metadata": {},
   "source": [
    "# problem 67"
   ]
  },
  {
   "cell_type": "code",
   "execution_count": null,
   "id": "65eb2a55",
   "metadata": {},
   "outputs": [],
   "source": [
    "# a Python program to find all the values in a list are greater than a specified number"
   ]
  },
  {
   "cell_type": "code",
   "execution_count": 170,
   "id": "0a9c53ac",
   "metadata": {},
   "outputs": [
    {
     "name": "stdout",
     "output_type": "stream",
     "text": [
      "True\n"
     ]
    }
   ],
   "source": [
    "\n",
    "list1 = [220, 330, 500]\n",
    "list2 = [12, 17, 21]\n",
    "num = 10\n",
    "\n",
    "result = False\n",
    "\n",
    "for i in list1 and list2:\n",
    "    if i > num:\n",
    "        result = True\n",
    "\n",
    "print(result)\n",
    "        "
   ]
  },
  {
   "cell_type": "markdown",
   "id": "1b9a6774",
   "metadata": {},
   "source": [
    "# problem 69"
   ]
  },
  {
   "cell_type": "code",
   "execution_count": 177,
   "id": "2f786a70",
   "metadata": {},
   "outputs": [
    {
     "name": "stdout",
     "output_type": "stream",
     "text": [
      "[10, 20, 40, 30, 56, 25, 33]\n"
     ]
    }
   ],
   "source": [
    "#a Python program to remove duplicates from a list of lists\n",
    "li = [[10, 20], [40], [30, 56, 25], [10, 20], [33], [40]]\n",
    "new_li = []\n",
    "\n",
    "for sublist in li:\n",
    "    for i in sublist:\n",
    "        if i not in new_li:\n",
    "            new_li.append(i)\n",
    "                  \n",
    "print(new_li)\n",
    "    "
   ]
  },
  {
   "cell_type": "markdown",
   "id": "0053c252",
   "metadata": {},
   "source": [
    "# problem 70"
   ]
  },
  {
   "cell_type": "code",
   "execution_count": 23,
   "id": "60a7e5c2",
   "metadata": {},
   "outputs": [
    {
     "name": "stdout",
     "output_type": "stream",
     "text": [
      "['abcd', 'abc', 'acjd']\n",
      "['dagfa']\n",
      "[]\n"
     ]
    }
   ],
   "source": [
    "li = ['abcd', 'abc', 'bcd', 'bkie', 'cder', 'cdsw', 'sdfsd', 'dagfa', 'acjd']\n",
    "new_li =[]\n",
    "new_li1 =[]\n",
    "new_li2 =[]\n",
    "new_li3 =[]\n",
    "\n",
    "for i in li:\n",
    "    if i[0]== \"a\":\n",
    "        new_li.append(i)\n",
    "print(new_li)\n",
    "  \n",
    "\n",
    "for i in li:\n",
    "    if i[0]== \"d\":\n",
    "        new_li1.append(i)\n",
    "print(new_li1)\n",
    "\n",
    "\n",
    "for i in li:\n",
    "    if i[0]== \"w\":\n",
    "        new_li2.append(i)\n",
    "print(new_li2)\n",
    "\n",
    "\n",
    "\n"
   ]
  },
  {
   "cell_type": "markdown",
   "id": "986da540",
   "metadata": {},
   "source": [
    "# problem 71"
   ]
  },
  {
   "cell_type": "code",
   "execution_count": 26,
   "id": "d215764e",
   "metadata": {},
   "outputs": [
    {
     "name": "stdout",
     "output_type": "stream",
     "text": [
      "True\n",
      "False\n"
     ]
    }
   ],
   "source": [
    "lis = [{},{},{}]\n",
    "lis1 = [{1,2},{},{}]\n",
    "\n",
    "print(all(not d for d in lis))\n",
    "print(all(not d for d in lis1))"
   ]
  },
  {
   "cell_type": "code",
   "execution_count": 54,
   "id": "ca9fd89f",
   "metadata": {},
   "outputs": [
    {
     "name": "stdout",
     "output_type": "stream",
     "text": [
      "True\n",
      "False\n"
     ]
    }
   ],
   "source": [
    "result = False\n",
    "for d in lis1:\n",
    "    if d != lis1:\n",
    "        result = True\n",
    "print(result)\n",
    "\n",
    "result = True\n",
    "for d in lis:\n",
    "    if d != lis:\n",
    "        result = False\n",
    "        break        \n",
    "        \n",
    "print(result)"
   ]
  },
  {
   "cell_type": "markdown",
   "id": "4a4b21c8",
   "metadata": {},
   "source": [
    "# problem 72"
   ]
  },
  {
   "cell_type": "code",
   "execution_count": 68,
   "id": "470337b6",
   "metadata": {},
   "outputs": [
    {
     "name": "stdout",
     "output_type": "stream",
     "text": [
      "[0, 10, 20, 30, 40, 50, 60, 70, 80, 90, 100, 110, 120]\n"
     ]
    }
   ],
   "source": [
    "li = [0, 10, [20, 30], 40, 50, [60, 70, 80], [90, 100, 110, 120]]\n",
    "li1 = []\n",
    "\n",
    "for x in li:\n",
    "    if isinstance(x, list):  \n",
    "        li1.extend(x) \n",
    "    else:\n",
    "        li1.append(x) \n",
    "print(li1)\n"
   ]
  },
  {
   "cell_type": "markdown",
   "id": "1af89128",
   "metadata": {},
   "source": [
    "# problem 73"
   ]
  },
  {
   "cell_type": "code",
   "execution_count": 70,
   "id": "1ea1726d",
   "metadata": {},
   "outputs": [
    {
     "name": "stdout",
     "output_type": "stream",
     "text": [
      "[0, 1, 2, 3, 4, 5, 6, 7, 8, 9]\n"
     ]
    }
   ],
   "source": [
    "Original_list =[0, 0, 1, 2, 3, 4, 4, 5, 6, 6, 6, 7, 8, 9, 4, 4]\n",
    "\n",
    "new_list = []\n",
    "for i in Original_list:\n",
    "    if i not in new_list:\n",
    "        new_list.append(i)\n",
    "print(new_list)"
   ]
  },
  {
   "cell_type": "markdown",
   "id": "2041b9cd",
   "metadata": {},
   "source": [
    "# problem 74"
   ]
  },
  {
   "cell_type": "code",
   "execution_count": 72,
   "id": "5fa98467",
   "metadata": {},
   "outputs": [],
   "source": [
    "#problem \n",
    "    "
   ]
  },
  {
   "cell_type": "markdown",
   "id": "9be2109c",
   "metadata": {},
   "source": [
    "# problem 76"
   ]
  },
  {
   "cell_type": "code",
   "execution_count": 73,
   "id": "d7c5eb65",
   "metadata": {},
   "outputs": [],
   "source": [
    "# problem "
   ]
  },
  {
   "cell_type": "markdown",
   "id": "e2d2a062",
   "metadata": {},
   "source": [
    "# problem 77"
   ]
  },
  {
   "cell_type": "code",
   "execution_count": 74,
   "id": "849057e1",
   "metadata": {},
   "outputs": [],
   "source": [
    "#PROBLEM\n"
   ]
  },
  {
   "cell_type": "markdown",
   "id": "e7eff758",
   "metadata": {},
   "source": [
    "# problem 78"
   ]
  },
  {
   "cell_type": "code",
   "execution_count": 76,
   "id": "4764837d",
   "metadata": {},
   "outputs": [
    {
     "name": "stdout",
     "output_type": "stream",
     "text": [
      "([1, 1, 2], [3, 4, 4, 5, 1])\n"
     ]
    }
   ],
   "source": [
    "li = [1, 1, 2, 3, 4, 4, 5, 1] \n",
    "\n",
    "def split_list(li, l):\n",
    "    return li[:l],li[l:]\n",
    "f_l_len = 3\n",
    "\n",
    "print(split_list(li, f_l_len))\n",
    "\n"
   ]
  },
  {
   "cell_type": "markdown",
   "id": "34ad81bf",
   "metadata": {},
   "source": [
    "# problem 79"
   ]
  },
  {
   "cell_type": "code",
   "execution_count": 79,
   "id": "8aad8cac",
   "metadata": {},
   "outputs": [
    {
     "name": "stdout",
     "output_type": "stream",
     "text": [
      "([1, 1], [3, 4, 4, 5, 1])\n"
     ]
    }
   ],
   "source": [
    "li = [1, 1, 2, 3, 4, 4, 5, 1] \n",
    "\n",
    "def split_list(li, l):\n",
    "    return li[:l-1],li[l:]\n",
    "f_l_len = 3\n",
    "\n",
    "print(split_list(li, f_l_len))\n"
   ]
  },
  {
   "cell_type": "markdown",
   "id": "5c7b3971",
   "metadata": {},
   "source": [
    "# problem 80"
   ]
  },
  {
   "cell_type": "code",
   "execution_count": 81,
   "id": "aabf4844",
   "metadata": {},
   "outputs": [
    {
     "name": "stdout",
     "output_type": "stream",
     "text": [
      "[1, 1, 12, 2, 3, 4, 4, 5, 1]\n"
     ]
    }
   ],
   "source": [
    "li = [1, 1, 2, 3, 4, 4, 5, 1]\n",
    "value = 12\n",
    "position = 2\n",
    "\n",
    "li.insert(position, value)\n",
    "\n",
    "\n",
    "print(li)\n"
   ]
  },
  {
   "cell_type": "code",
   "execution_count": null,
   "id": "dcf48b24",
   "metadata": {},
   "outputs": [],
   "source": []
  },
  {
   "cell_type": "code",
   "execution_count": null,
   "id": "bd311bc3",
   "metadata": {},
   "outputs": [],
   "source": []
  },
  {
   "cell_type": "code",
   "execution_count": null,
   "id": "08c5ed1f",
   "metadata": {},
   "outputs": [],
   "source": []
  },
  {
   "cell_type": "code",
   "execution_count": null,
   "id": "f2e7fc1a",
   "metadata": {},
   "outputs": [],
   "source": []
  },
  {
   "cell_type": "code",
   "execution_count": null,
   "id": "04243948",
   "metadata": {},
   "outputs": [],
   "source": []
  },
  {
   "cell_type": "code",
   "execution_count": null,
   "id": "ef6779fe",
   "metadata": {},
   "outputs": [],
   "source": []
  },
  {
   "cell_type": "code",
   "execution_count": null,
   "id": "b84f92ea",
   "metadata": {},
   "outputs": [],
   "source": []
  }
 ],
 "metadata": {
  "kernelspec": {
   "display_name": "Python 3 (ipykernel)",
   "language": "python",
   "name": "python3"
  },
  "language_info": {
   "codemirror_mode": {
    "name": "ipython",
    "version": 3
   },
   "file_extension": ".py",
   "mimetype": "text/x-python",
   "name": "python",
   "nbconvert_exporter": "python",
   "pygments_lexer": "ipython3",
   "version": "3.9.12"
  }
 },
 "nbformat": 4,
 "nbformat_minor": 5
}
